{
 "cells": [
  {
   "cell_type": "markdown",
   "metadata": {},
   "source": [
    "### Let's talk about Little Caesars."
   ]
  },
  {
   "cell_type": "markdown",
   "metadata": {},
   "source": [
    "<img alt=\"Little Caesars Pizza ⋆ ShelbyKY Tourism Commission &amp; Visitors Bureau\" class=\"n3VNCb\" src=\"https://www.visitshelbyky.com/wp-content/uploads/2017/09/2-LittleCaesars_Logo-2_0.jpg\" data-noaft=\"1\" jsname=\"HiaYvf\" jsaction=\"load:XAeZkd;\" style=\"width: 450px; height: 290.042px; margin: 0px;\">"
   ]
  },
  {
   "attachments": {},
   "cell_type": "markdown",
   "metadata": {},
   "source": [
    "One of the most interesting phenomena across social media is the divisive topics that plague it. Is the dress black and blue or white and gold? Are birds a government conspiracy? Jorts? All of these topics are divisive, but they are also all in good fun. After all, no one is really getting hurt because of a debate over a dress that they will likely never see or buy. Other discussions can be divisive, but with implications that are a little more severe. The most illustrative example of this is the debate over Little Caesars.\n",
    "\n",
    "On the surface, this topic of debate is still lighthearted. Little Caesars is, at its core, just another Americanized pizza chain known for their 5 dollar Hot-N-Ready pizzas. But it gets a bit darker when you think about what people are actually saying when they are debating Little Caesars. Why they are so cheap, the world may never know, but the price tag has made it so that people find the pizza questionable. Little Caesars haters feel as though it is a pizza you eat when you have five dollars to your name and no other choice. That's how the meme goes, Little Caesars being something that you hate because it's gross and cheap, or it being something that you enjoy as a guilty pleasure."
   ]
  },
  {
   "attachments": {},
   "cell_type": "markdown",
   "metadata": {},
   "source": [
    "To articulate my point, let’s go over some Little Caesars memes."
   ]
  },
  {
   "cell_type": "markdown",
   "metadata": {},
   "source": [
    "![Meme 1](meme1.png)"
   ]
  },
  {
   "attachments": {},
   "cell_type": "markdown",
   "metadata": {},
   "source": [
    "The first of our memes is in regard to the [recent stimulus proposal](https://www.nytimes.com/2020/12/20/us/politics/congress-stimulus-deal.html?smtyp=cur&smid=tw-nytimes). With the country in worse shape than when the first stimulus bill was passed regarding the pandemic, Congress has halved the relief they are offering. This half of the stimulus effectively made it equal to a Little Caesars pizza, implying that the pizza is just as awful as the relief for people during a pandemic. Or so the internet says.\n",
    "There is a variation of this meme that says, “the next stimulus package is going to be a pizza party with the pizza from Little Caesars”. This builds upon the narrative established in the previous meme, where Congress could not even have the decency to buy higher quality pizza. They did the very least, providing only the questionable $5 pizza and nothing more.\n",
    "\n",
    "Relating to Little Caesars as related to government actions comes our next meme. When president-elect Joe Biden laid out his tax plan, working Americans, particularly young ones, were scared that they would be charged higher taxes even though they fell far below the stated threshold that Biden had established. Ensuing from this were lots of memes laying out typical working-class things and stating that you did not need to worry about Biden’s tax plan if you could relate to those things. These things including having popcorn ceilings, having to conserve hot water in the house…and eating Little Caesars."
   ]
  },
  {
   "cell_type": "markdown",
   "metadata": {},
   "source": [
    "![Meme 2](meme2.png)"
   ]
  },
  {
   "attachments": {},
   "cell_type": "markdown",
   "metadata": {},
   "source": [
    "#### Some people, however, _love_ Little Caesars!"
   ]
  },
  {
   "attachments": {},
   "cell_type": "markdown",
   "metadata": {},
   "source": [
    "![Meme 3](meme3.png)"
   ]
  },
  {
   "attachments": {},
   "cell_type": "markdown",
   "metadata": {},
   "source": [
    "Some people, however, love Little Caesars. Our next meme comes in the form of a Tik Tok. The audio for this Tik Tok is Congresswoman Alexandra Ocasio-Cortez saying “shoutout to my fellow radicals who believe crazy things”. In this instance, the ‘crazy thing’ is openly liking Little Caesars, and the caption reads “if you don’t like them, you’re classist”. This meme, though in favor of Little Caesars, still alludes to the idea of Little Caesars being pizza for the lower class."
   ]
  },
  {
   "cell_type": "markdown",
   "metadata": {},
   "source": [
    "![Meme 4](meme4.png)"
   ]
  },
  {
   "attachments": {},
   "cell_type": "markdown",
   "metadata": {},
   "source": [
    "Where some people see the stigma associated with Little Caesars, others look to the value. It’s not anywhere you can get a $5 large pizza. Though the quality varies depending on who you ask, it is hard to beat. However, it could be that someone liking Little Caesars or having access to one is indicative of the area they live in. Hot-N-Readys might actually \"support the working class\" because they exist in the same place as the working class does.\n",
    "\n",
    "Let’s get to the bottom of this with the help of a little data."
   ]
  },
  {
   "cell_type": "markdown",
   "metadata": {},
   "source": [
    "## Data Analysis"
   ]
  },
  {
   "attachments": {},
   "cell_type": "markdown",
   "metadata": {},
   "source": [
    "To do this data analysis, I am utilizing data from various sources. I will be focusing on mainly on the cities of Chicago and Philadelphia.\n",
    "\n",
    "For Chicago, I am using a dataset that is consistently updated with the [status of Chicago grocery stores](https://data.cityofchicago.org/Health-Human-Services/Grocery-Store-Status/3e26-zek2), as well as data for [income](http://zipatlas.com/us/il/chicago/zip-code-comparison/median-household-income.htm), [police stations](https://www.chicago.gov/city/en/depts/cpd/dataset/police_stations.html), and [manufacturing](http://zipatlas.com/us/il/chicago/zip-code-comparison/percentage-population-manufacturing-industry.htm).\n",
    "\n",
    "For Philadelphia, I am using a [dataset](https://www.opendataphilly.org/dataset/neighborhood-food-retail) that also contains information about the percentage of people in poverty, and how many high produce and low produce grocery stores are in each area.\n",
    "\n",
    "To find the locations of the Little Caesars in each city, I used [this website](https://www.menuism.com/restaurant-locations/little-caesars-140160/us)."
   ]
  },
  {
   "cell_type": "markdown",
   "metadata": {},
   "source": [
    "### Chicago"
   ]
  },
  {
   "cell_type": "markdown",
   "metadata": {},
   "source": [
    "Before we begin, here is a map of Chicago neighborhoods for reference.\n",
    "<img alt=\"Chicago Neighborhood Map\" class=\"n3VNCb\" src=\"https://www.chibarproject.com/images/neighborhood_map.png\" data-noaft=\"1\" jsname=\"HiaYvf\" jsaction=\"load:XAeZkd;\" style=\"width: 348.021px; height: 518px; margin: 0px;\">"
   ]
  },
  {
   "cell_type": "markdown",
   "metadata": {},
   "source": [
    "![Chicago Graph 1](chigraph1.png)"
   ]
  },
  {
   "cell_type": "markdown",
   "metadata": {},
   "source": [
    "The first graph shows where Little Caesars are relative to some of the most popular grocery chains in Chicago, such as Whole Foods, Trader Joe's, and Cermak. The  Little Caesars are represented by the __red dots with no fill color__."
   ]
  },
  {
   "cell_type": "markdown",
   "metadata": {},
   "source": [
    "There is not much to see here. They are scattered around with the grocery stores. But, it gets a little more interesting when you categorize the grocery stores by their pricing schemes."
   ]
  },
  {
   "cell_type": "markdown",
   "metadata": {},
   "source": [
    "![Chicago Graph 2](chigraph2.png)"
   ]
  },
  {
   "cell_type": "markdown",
   "metadata": {},
   "source": [
    "Here is the same graph, but with only grocery stores that have relatively average/above average price points or are generally associated with a more affluent population, as Whole Foods and Pete's. The Little Caesars, again, are represented by __red dots__. As we can see, they are not so much clustered near these grocery stores. Most of these grocery stores exist in the downtown area, but none of the Little Caesars do."
   ]
  },
  {
   "cell_type": "markdown",
   "metadata": {},
   "source": [
    "![Chicago Graph 3](chigraph3.png)"
   ]
  },
  {
   "cell_type": "markdown",
   "metadata": {},
   "source": [
    "Here is the same map, but only including more affordable grocery stores, such as Aldi and Food 4 Less. The Little Caesars, again, are represented by __red dots__. There is a difference here, as the Little Caesars appear more often near these grocery stores than they do higher end stores."
   ]
  },
  {
   "cell_type": "markdown",
   "metadata": {},
   "source": [
    "![Chicago Graph 4](chigraph4.png)"
   ]
  },
  {
   "cell_type": "markdown",
   "metadata": {},
   "source": [
    "Little Caesars also appears more often than not near a police station, which are represented by the __cyan dots__."
   ]
  },
  {
   "cell_type": "markdown",
   "metadata": {},
   "source": [
    "These spatial visualization are useful in understanding with the Little Caesars are. Now, I would like to get into more numerical data to highlight the disparities in location."
   ]
  },
  {
   "cell_type": "markdown",
   "metadata": {},
   "source": [
    "From the data, there are 20 grocery stores in the 5 most affluent zip codes in Chicago, and 99,647 people. That means for every __grocery store__, there are __4982 people__ that it  serves.\n",
    "\n",
    "On the other hand, there are 10 grocery stores in the 5 least affluent zip codes in Chicago, and 184823 people. That means that for every __grocery store__, there are __18,482 people__ that it serves.\n",
    "\n",
    "The 10 grocery stores in the least affluent zip codes serve almost __twice__ as many people as the 20 in the least affluent zip codes."
   ]
  },
  {
   "cell_type": "code",
   "execution_count": 19,
   "metadata": {},
   "outputs": [
    {
     "data": {
      "text/html": [
       "<div>\n",
       "<style scoped>\n",
       "    .dataframe tbody tr th:only-of-type {\n",
       "        vertical-align: middle;\n",
       "    }\n",
       "\n",
       "    .dataframe tbody tr th {\n",
       "        vertical-align: top;\n",
       "    }\n",
       "\n",
       "    .dataframe thead th {\n",
       "        text-align: right;\n",
       "    }\n",
       "</style>\n",
       "<table border=\"1\" class=\"dataframe\">\n",
       "  <thead>\n",
       "    <tr style=\"text-align: right;\">\n",
       "      <th></th>\n",
       "      <th>Most Affluent Zips</th>\n",
       "      <th>Least Affluent Zips</th>\n",
       "      <th>Average Income (Most Affluent)</th>\n",
       "      <th>Average Income (Least Affluent)</th>\n",
       "    </tr>\n",
       "  </thead>\n",
       "  <tbody>\n",
       "    <tr>\n",
       "      <th>0</th>\n",
       "      <td>60606</td>\n",
       "      <td>60602</td>\n",
       "      <td>100377</td>\n",
       "      <td>23750</td>\n",
       "    </tr>\n",
       "    <tr>\n",
       "      <th>1</th>\n",
       "      <td>60601</td>\n",
       "      <td>60637</td>\n",
       "      <td>77374</td>\n",
       "      <td>23228</td>\n",
       "    </tr>\n",
       "    <tr>\n",
       "      <th>2</th>\n",
       "      <td>60611</td>\n",
       "      <td>60624</td>\n",
       "      <td>69889</td>\n",
       "      <td>22426</td>\n",
       "    </tr>\n",
       "    <tr>\n",
       "      <th>3</th>\n",
       "      <td>60614</td>\n",
       "      <td>60621</td>\n",
       "      <td>68324</td>\n",
       "      <td>19718</td>\n",
       "    </tr>\n",
       "    <tr>\n",
       "      <th>4</th>\n",
       "      <td>60603</td>\n",
       "      <td>60653</td>\n",
       "      <td>61815</td>\n",
       "      <td>14205</td>\n",
       "    </tr>\n",
       "  </tbody>\n",
       "</table>\n",
       "</div>"
      ],
      "text/plain": [
       "   Most Affluent Zips  Least Affluent Zips  Average Income (Most Affluent)  \\\n",
       "0               60606                60602                          100377   \n",
       "1               60601                60637                           77374   \n",
       "2               60611                60624                           69889   \n",
       "3               60614                60621                           68324   \n",
       "4               60603                60653                           61815   \n",
       "\n",
       "   Average Income (Least Affluent)  \n",
       "0                            23750  \n",
       "1                            23228  \n",
       "2                            22426  \n",
       "3                            19718  \n",
       "4                            14205  "
      ]
     },
     "execution_count": 19,
     "metadata": {},
     "output_type": "execute_result"
    }
   ],
   "source": [
    "\n",
    "dd = {'Most Affluent Zips':[60606,60601,60611,60614,60603],'Least Affluent Zips':[60602,60637,60624,60621,60653],\n",
    "     'Average Income (Most Affluent)':[100377,77374,69889,68324,61815],\n",
    "     'Average Income (Least Affluent)':[23750,23228,22426,19718,14205]}\n",
    "most_least_affluent =  pd.DataFrame(data=dd)\n",
    "most_least_affluent"
   ]
  },
  {
   "cell_type": "markdown",
   "metadata": {},
   "source": [
    "* This table helps us see the income disparities among the zip codes that we just discussed."
   ]
  },
  {
   "cell_type": "markdown",
   "metadata": {},
   "source": [
    "To conclude with Chicago, the last figure I wanted to look at was the incomes of the zip codes in which there exists a Little Caesars."
   ]
  },
  {
   "cell_type": "code",
   "execution_count": 20,
   "metadata": {},
   "outputs": [
    {
     "data": {
      "text/html": [
       "<div>\n",
       "<style scoped>\n",
       "    .dataframe tbody tr th:only-of-type {\n",
       "        vertical-align: middle;\n",
       "    }\n",
       "\n",
       "    .dataframe tbody tr th {\n",
       "        vertical-align: top;\n",
       "    }\n",
       "\n",
       "    .dataframe thead th {\n",
       "        text-align: right;\n",
       "    }\n",
       "</style>\n",
       "<table border=\"1\" class=\"dataframe\">\n",
       "  <thead>\n",
       "    <tr style=\"text-align: right;\">\n",
       "      <th></th>\n",
       "      <th>Zip Code</th>\n",
       "      <th>Population</th>\n",
       "      <th>Average Household Income</th>\n",
       "    </tr>\n",
       "  </thead>\n",
       "  <tbody>\n",
       "    <tr>\n",
       "      <th>11</th>\n",
       "      <td>60652</td>\n",
       "      <td>39126</td>\n",
       "      <td>53120</td>\n",
       "    </tr>\n",
       "    <tr>\n",
       "      <th>14</th>\n",
       "      <td>60634</td>\n",
       "      <td>74164</td>\n",
       "      <td>50042</td>\n",
       "    </tr>\n",
       "    <tr>\n",
       "      <th>16</th>\n",
       "      <td>60630</td>\n",
       "      <td>54781</td>\n",
       "      <td>47905</td>\n",
       "    </tr>\n",
       "    <tr>\n",
       "      <th>18</th>\n",
       "      <td>60638</td>\n",
       "      <td>55788</td>\n",
       "      <td>45173</td>\n",
       "    </tr>\n",
       "    <tr>\n",
       "      <th>25</th>\n",
       "      <td>60629</td>\n",
       "      <td>113984</td>\n",
       "      <td>40279</td>\n",
       "    </tr>\n",
       "    <tr>\n",
       "      <th>32</th>\n",
       "      <td>60617</td>\n",
       "      <td>96288</td>\n",
       "      <td>35534</td>\n",
       "    </tr>\n",
       "    <tr>\n",
       "      <th>33</th>\n",
       "      <td>60647</td>\n",
       "      <td>98769</td>\n",
       "      <td>35283</td>\n",
       "    </tr>\n",
       "    <tr>\n",
       "      <th>35</th>\n",
       "      <td>60619</td>\n",
       "      <td>74963</td>\n",
       "      <td>33631</td>\n",
       "    </tr>\n",
       "    <tr>\n",
       "      <th>36</th>\n",
       "      <td>60651</td>\n",
       "      <td>77583</td>\n",
       "      <td>32622</td>\n",
       "    </tr>\n",
       "    <tr>\n",
       "      <th>39</th>\n",
       "      <td>60626</td>\n",
       "      <td>59251</td>\n",
       "      <td>31318</td>\n",
       "    </tr>\n",
       "    <tr>\n",
       "      <th>46</th>\n",
       "      <td>60644</td>\n",
       "      <td>59059</td>\n",
       "      <td>26930</td>\n",
       "    </tr>\n",
       "    <tr>\n",
       "      <th>47</th>\n",
       "      <td>60609</td>\n",
       "      <td>79469</td>\n",
       "      <td>25705</td>\n",
       "    </tr>\n",
       "  </tbody>\n",
       "</table>\n",
       "</div>"
      ],
      "text/plain": [
       "    Zip Code  Population  Average Household Income\n",
       "11     60652       39126                     53120\n",
       "14     60634       74164                     50042\n",
       "16     60630       54781                     47905\n",
       "18     60638       55788                     45173\n",
       "25     60629      113984                     40279\n",
       "32     60617       96288                     35534\n",
       "33     60647       98769                     35283\n",
       "35     60619       74963                     33631\n",
       "36     60651       77583                     32622\n",
       "39     60626       59251                     31318\n",
       "46     60644       59059                     26930\n",
       "47     60609       79469                     25705"
      ]
     },
     "execution_count": 20,
     "metadata": {},
     "output_type": "execute_result"
    }
   ],
   "source": [
    "chicaesar = pd.read_csv('../data/chicaesar.csv')\n",
    "chicagoincome = pd.read_csv('../data/chicagoincomeCLEAN.csv')\n",
    "caesarincome = chicagoincome[chicagoincome['Zip Code'].isin(chicaesar['Zip'])]\n",
    "caesarincome = caesarincome[['Zip Code','Population','Average Household Income']]\n",
    "caesarincome"
   ]
  },
  {
   "cell_type": "markdown",
   "metadata": {},
   "source": [
    "This table tells us that there exists no Little Caesars in a zip code where the average household income is more than around $53,000.\n",
    "\n",
    "This figure is almost half as much as the highest average income for a zip code in Chicago.\n",
    "\n",
    "This is all to say that in Chicago is definitely a city where it is true that Little Caesars exists to serve people who are not as affluent. Is the same true for Philadelphia?"
   ]
  },
  {
   "cell_type": "markdown",
   "metadata": {},
   "source": [
    "### Philadelphia"
   ]
  },
  {
   "cell_type": "markdown",
   "metadata": {},
   "source": [
    "As with Chicago, here is a map of the general areas in Philadelphia for reference.\n",
    "<img alt=\"Amazon.com: Canvasart Philadelphia k Map (Typography) City of Brotherly  Love (20x24): Posters &amp; Prints\" class=\"n3VNCb\" src=\"https://images-na.ssl-images-amazon.com/images/I/711nGXgUtUL._AC_SL1152_.jpg\" data-noaft=\"1\" jsname=\"HiaYvf\" jsaction=\"load:XAeZkd;\" style=\"width: 400px; height: 467.5px; margin: 0px;\">"
   ]
  },
  {
   "cell_type": "markdown",
   "metadata": {},
   "source": [
    "The dataset I used to do this analysis was measuring High Produce and Low Produce grocery stores in an area. What this means, exactly, is that a high produce store would be something like a supermarket or farmers market, where a low produce store would be something like a Dollar Tree or 7-Eleven. The graph below shows Little Caesars in Philadelphia, represented by the __red triangles__ relating to the number of Low Produce Grocery Stores per 1000 people in an area.  The lighter the color, the more low produce stores  exist in that area. Though there are not as many Little Caesars as in Chicago, the ones that do exist tend to be near areas where there are more low produce grocery stores."
   ]
  },
  {
   "cell_type": "markdown",
   "metadata": {},
   "source": [
    "![Philadelphia Graph 1](phlgraph1.png)"
   ]
  },
  {
   "cell_type": "markdown",
   "metadata": {},
   "source": [
    "![Philadelphia Graph 2](phlgraph2.png)"
   ]
  },
  {
   "cell_type": "markdown",
   "metadata": {},
   "source": [
    "Here is the same graph, instead showing Little Caesars near high produce stores in Philadelphia. They are, again, represented by  __red triangles__. The lighter the color, the higher the number of high produce grocery stores. Not many Little Caesars exist near these."
   ]
  },
  {
   "cell_type": "markdown",
   "metadata": {},
   "source": [
    "![Philadelphia Graph 3](phlgraph3.png)"
   ]
  },
  {
   "cell_type": "markdown",
   "metadata": {},
   "source": [
    "This graph shows areas with high poverty, with the red triangles as Little Caesars locations. An area with more than __20%__ of people being below the federal poverty level is classified as having high poverty. The map shows most of the Little Caesars in Philadelphia existing in areas classified as having high poverty."
   ]
  },
  {
   "cell_type": "markdown",
   "metadata": {},
   "source": [
    "![Philadelphia Graph 4](phlgraph4.png)"
   ]
  },
  {
   "cell_type": "markdown",
   "metadata": {},
   "source": [
    "This graph shows that a bit more particularly, using the percentage of people in poverty as the metric rather  than  just  specifying whether there is high poverty. This is more illustrative of the differences that appear."
   ]
  },
  {
   "cell_type": "markdown",
   "metadata": {},
   "source": [
    "## Conclusion"
   ]
  },
  {
   "cell_type": "markdown",
   "metadata": {},
   "source": [
    "The presence of Little Caesars Pizza locations in low-income communities  is no coincidence. This placement of the restaurant franchises is likely completely intentional because of the necessity of these communities. As someone who grew up in a low-income community with plenty of Little Caesars near me, I can say that no one ever complained because we knew what it was, and that is cheap, decent pizza. It is fun to make jokes about, no doubt, but those jokes hold a real sentiment that is illustrated through these graphs. It is true that Hot-N-Ready serves the working class, but it also can be indicative of the structural difference that plague class relations and how that relates to zoning issues and gentrification."
   ]
  }
 ],
 "metadata": {
  "kernelspec": {
   "display_name": "Python 3",
   "language": "python",
   "name": "python3"
  },
  "language_info": {
   "codemirror_mode": {
    "name": "ipython",
    "version": 3
   },
   "file_extension": ".py",
   "mimetype": "text/x-python",
   "name": "python",
   "nbconvert_exporter": "python",
   "pygments_lexer": "ipython3",
   "version": "3.7.3"
  }
 },
 "nbformat": 4,
 "nbformat_minor": 2
}
