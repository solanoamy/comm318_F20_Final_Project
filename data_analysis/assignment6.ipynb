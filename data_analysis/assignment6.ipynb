{
 "cells": [
  {
   "cell_type": "code",
   "execution_count": 104,
   "metadata": {},
   "outputs": [],
   "source": [
    "import matplotlib.pyplot as plt\n",
    "import pandas as pd\n",
    "import geopandas as gpd\n",
    "from shapely.geometry import Point\n",
    "import shapely\n",
    "import json"
   ]
  },
  {
   "cell_type": "markdown",
   "metadata": {},
   "source": [
    "## Block 1"
   ]
  },
  {
   "cell_type": "markdown",
   "metadata": {},
   "source": [
    "#### Question #### \n",
    "* Is the Chicago zip code with the most grocery stores more or less affluent relative to Chicago itself?"
   ]
  },
  {
   "cell_type": "markdown",
   "metadata": {},
   "source": [
    "1. _Use distribution of `ZIP CODE` and load in dataframe that shows avg income by zip code_\n",
    "2. _Figure out geopandas and find geographic data, load that in_\n",
    "3. _Create two plots highlighting grocery store density and income by zip code and compare_\n"
   ]
  },
  {
   "cell_type": "markdown",
   "metadata": {},
   "source": [
    "#### note\n",
    "The old Chicago grocery store dataset is from 2013, so while the new data doesn't have as many parameters, it still has whatever I need and was last updated in September 2020, so very recent."
   ]
  },
  {
   "cell_type": "code",
   "execution_count": 105,
   "metadata": {
    "scrolled": true
   },
   "outputs": [
    {
     "data": {
      "text/html": [
       "<div>\n",
       "<style scoped>\n",
       "    .dataframe tbody tr th:only-of-type {\n",
       "        vertical-align: middle;\n",
       "    }\n",
       "\n",
       "    .dataframe tbody tr th {\n",
       "        vertical-align: top;\n",
       "    }\n",
       "\n",
       "    .dataframe thead th {\n",
       "        text-align: right;\n",
       "    }\n",
       "</style>\n",
       "<table border=\"1\" class=\"dataframe\">\n",
       "  <thead>\n",
       "    <tr style=\"text-align: right;\">\n",
       "      <th></th>\n",
       "      <th>Store Name</th>\n",
       "      <th>Address</th>\n",
       "      <th>Zip</th>\n",
       "      <th>New status</th>\n",
       "      <th>Last updated</th>\n",
       "      <th>Location</th>\n",
       "    </tr>\n",
       "  </thead>\n",
       "  <tbody>\n",
       "    <tr>\n",
       "      <th>0</th>\n",
       "      <td>Cermak Produce</td>\n",
       "      <td>4000 West Diversey Ave</td>\n",
       "      <td>60647</td>\n",
       "      <td>OPEN</td>\n",
       "      <td>06/04/2020 03:00:00 PM</td>\n",
       "      <td>NaN</td>\n",
       "    </tr>\n",
       "    <tr>\n",
       "      <th>1</th>\n",
       "      <td>Jewel - Osco</td>\n",
       "      <td>2520 N Narragansett Ave</td>\n",
       "      <td>60639-1041</td>\n",
       "      <td>OPEN</td>\n",
       "      <td>06/03/2020 05:00:00 PM</td>\n",
       "      <td>POINT (-87.785559 41.926236)</td>\n",
       "    </tr>\n",
       "    <tr>\n",
       "      <th>2</th>\n",
       "      <td>Mariano's Fresh Market</td>\n",
       "      <td>40 S Halsted St</td>\n",
       "      <td>60661-3506</td>\n",
       "      <td>OPEN</td>\n",
       "      <td>NaN</td>\n",
       "      <td>POINT (-87.647384 41.880557)</td>\n",
       "    </tr>\n",
       "    <tr>\n",
       "      <th>3</th>\n",
       "      <td>Mariano's Fresh Market</td>\n",
       "      <td>3145 South Ashland Ave</td>\n",
       "      <td>60608</td>\n",
       "      <td>OPEN</td>\n",
       "      <td>06/05/2020 01:21:00 PM</td>\n",
       "      <td>POINT (-87.66563800000002 41.836512)</td>\n",
       "    </tr>\n",
       "    <tr>\n",
       "      <th>4</th>\n",
       "      <td>Aldi</td>\n",
       "      <td>7800 S South Chicago Ave</td>\n",
       "      <td>60619-2724</td>\n",
       "      <td>OPEN</td>\n",
       "      <td>06/05/2020 01:21:00 PM</td>\n",
       "      <td>POINT (-87.587472 41.752778)</td>\n",
       "    </tr>\n",
       "  </tbody>\n",
       "</table>\n",
       "</div>"
      ],
      "text/plain": [
       "               Store Name                   Address         Zip New status  \\\n",
       "0          Cermak Produce    4000 West Diversey Ave       60647       OPEN   \n",
       "1            Jewel - Osco   2520 N Narragansett Ave  60639-1041       OPEN   \n",
       "2  Mariano's Fresh Market           40 S Halsted St  60661-3506       OPEN   \n",
       "3  Mariano's Fresh Market    3145 South Ashland Ave       60608       OPEN   \n",
       "4                    Aldi  7800 S South Chicago Ave  60619-2724       OPEN   \n",
       "\n",
       "             Last updated                              Location  \n",
       "0  06/04/2020 03:00:00 PM                                   NaN  \n",
       "1  06/03/2020 05:00:00 PM          POINT (-87.785559 41.926236)  \n",
       "2                     NaN          POINT (-87.647384 41.880557)  \n",
       "3  06/05/2020 01:21:00 PM  POINT (-87.66563800000002 41.836512)  \n",
       "4  06/05/2020 01:21:00 PM          POINT (-87.587472 41.752778)  "
      ]
     },
     "execution_count": 105,
     "metadata": {},
     "output_type": "execute_result"
    }
   ],
   "source": [
    "#load in new dataframe\n",
    "chi_grocery = pd.read_csv('../data/chigrocery.csv')\n",
    "chi_grocery.head()"
   ]
  },
  {
   "cell_type": "markdown",
   "metadata": {},
   "source": [
    "###### I only want the beginning digits of Zip Codes to clean up the data"
   ]
  },
  {
   "cell_type": "code",
   "execution_count": 106,
   "metadata": {
    "scrolled": true
   },
   "outputs": [
    {
     "data": {
      "text/plain": [
       "pandas.core.series.Series"
      ]
     },
     "execution_count": 106,
     "metadata": {},
     "output_type": "execute_result"
    }
   ],
   "source": [
    "type(chi_grocery['Zip'])"
   ]
  },
  {
   "cell_type": "code",
   "execution_count": 107,
   "metadata": {},
   "outputs": [
    {
     "data": {
      "text/plain": [
       "0           60647\n",
       "1      60639-1041\n",
       "2      60661-3506\n",
       "3           60608\n",
       "4      60619-2724\n",
       "          ...    \n",
       "259         60616\n",
       "260    60659-2608\n",
       "261         60638\n",
       "262         60634\n",
       "263         60625\n",
       "Name: Zip, Length: 264, dtype: object"
      ]
     },
     "execution_count": 107,
     "metadata": {},
     "output_type": "execute_result"
    }
   ],
   "source": [
    "chi_grocery['Zip']"
   ]
  },
  {
   "cell_type": "code",
   "execution_count": 108,
   "metadata": {},
   "outputs": [],
   "source": [
    "#Removing NaN values so I can split the Zip Codes\n",
    "chi_grocery = chi_grocery.dropna(subset = ['Zip'], how = \"any\")"
   ]
  },
  {
   "cell_type": "code",
   "execution_count": 109,
   "metadata": {},
   "outputs": [
    {
     "data": {
      "text/plain": [
       "0           60647\n",
       "1      60639-1041\n",
       "2      60661-3506\n",
       "3           60608\n",
       "4      60619-2724\n",
       "          ...    \n",
       "259         60616\n",
       "260    60659-2608\n",
       "261         60638\n",
       "262         60634\n",
       "263         60625\n",
       "Name: Zip, Length: 263, dtype: object"
      ]
     },
     "execution_count": 109,
     "metadata": {},
     "output_type": "execute_result"
    }
   ],
   "source": [
    "chi_grocery['Zip']"
   ]
  },
  {
   "cell_type": "markdown",
   "metadata": {},
   "source": [
    "There was one NaN value making my life a little difficult"
   ]
  },
  {
   "cell_type": "code",
   "execution_count": 110,
   "metadata": {},
   "outputs": [],
   "source": [
    "#create new function isolating the zipcodes\n",
    "def new_zip(zipcode):\n",
    "    split_zipcode = zipcode.split(\"-\")\n",
    "    return split_zipcode[0]"
   ]
  },
  {
   "cell_type": "code",
   "execution_count": 111,
   "metadata": {},
   "outputs": [
    {
     "data": {
      "text/html": [
       "<div>\n",
       "<style scoped>\n",
       "    .dataframe tbody tr th:only-of-type {\n",
       "        vertical-align: middle;\n",
       "    }\n",
       "\n",
       "    .dataframe tbody tr th {\n",
       "        vertical-align: top;\n",
       "    }\n",
       "\n",
       "    .dataframe thead th {\n",
       "        text-align: right;\n",
       "    }\n",
       "</style>\n",
       "<table border=\"1\" class=\"dataframe\">\n",
       "  <thead>\n",
       "    <tr style=\"text-align: right;\">\n",
       "      <th></th>\n",
       "      <th>Store Name</th>\n",
       "      <th>Address</th>\n",
       "      <th>Zip</th>\n",
       "      <th>New status</th>\n",
       "      <th>Last updated</th>\n",
       "      <th>Location</th>\n",
       "    </tr>\n",
       "  </thead>\n",
       "  <tbody>\n",
       "    <tr>\n",
       "      <th>0</th>\n",
       "      <td>Cermak Produce</td>\n",
       "      <td>4000 West Diversey Ave</td>\n",
       "      <td>60647</td>\n",
       "      <td>OPEN</td>\n",
       "      <td>06/04/2020 03:00:00 PM</td>\n",
       "      <td>NaN</td>\n",
       "    </tr>\n",
       "    <tr>\n",
       "      <th>1</th>\n",
       "      <td>Jewel - Osco</td>\n",
       "      <td>2520 N Narragansett Ave</td>\n",
       "      <td>60639</td>\n",
       "      <td>OPEN</td>\n",
       "      <td>06/03/2020 05:00:00 PM</td>\n",
       "      <td>POINT (-87.785559 41.926236)</td>\n",
       "    </tr>\n",
       "    <tr>\n",
       "      <th>2</th>\n",
       "      <td>Mariano's Fresh Market</td>\n",
       "      <td>40 S Halsted St</td>\n",
       "      <td>60661</td>\n",
       "      <td>OPEN</td>\n",
       "      <td>NaN</td>\n",
       "      <td>POINT (-87.647384 41.880557)</td>\n",
       "    </tr>\n",
       "    <tr>\n",
       "      <th>3</th>\n",
       "      <td>Mariano's Fresh Market</td>\n",
       "      <td>3145 South Ashland Ave</td>\n",
       "      <td>60608</td>\n",
       "      <td>OPEN</td>\n",
       "      <td>06/05/2020 01:21:00 PM</td>\n",
       "      <td>POINT (-87.66563800000002 41.836512)</td>\n",
       "    </tr>\n",
       "    <tr>\n",
       "      <th>4</th>\n",
       "      <td>Aldi</td>\n",
       "      <td>7800 S South Chicago Ave</td>\n",
       "      <td>60619</td>\n",
       "      <td>OPEN</td>\n",
       "      <td>06/05/2020 01:21:00 PM</td>\n",
       "      <td>POINT (-87.587472 41.752778)</td>\n",
       "    </tr>\n",
       "  </tbody>\n",
       "</table>\n",
       "</div>"
      ],
      "text/plain": [
       "               Store Name                   Address    Zip New status  \\\n",
       "0          Cermak Produce    4000 West Diversey Ave  60647       OPEN   \n",
       "1            Jewel - Osco   2520 N Narragansett Ave  60639       OPEN   \n",
       "2  Mariano's Fresh Market           40 S Halsted St  60661       OPEN   \n",
       "3  Mariano's Fresh Market    3145 South Ashland Ave  60608       OPEN   \n",
       "4                    Aldi  7800 S South Chicago Ave  60619       OPEN   \n",
       "\n",
       "             Last updated                              Location  \n",
       "0  06/04/2020 03:00:00 PM                                   NaN  \n",
       "1  06/03/2020 05:00:00 PM          POINT (-87.785559 41.926236)  \n",
       "2                     NaN          POINT (-87.647384 41.880557)  \n",
       "3  06/05/2020 01:21:00 PM  POINT (-87.66563800000002 41.836512)  \n",
       "4  06/05/2020 01:21:00 PM          POINT (-87.587472 41.752778)  "
      ]
     },
     "execution_count": 111,
     "metadata": {},
     "output_type": "execute_result"
    }
   ],
   "source": [
    "chi_grocery['Zip'] = chi_grocery['Zip'].apply(new_zip)\n",
    "chi_grocery.head()"
   ]
  },
  {
   "cell_type": "code",
   "execution_count": 112,
   "metadata": {},
   "outputs": [],
   "source": [
    "zip_dist = chi_grocery['Zip'].value_counts()"
   ]
  },
  {
   "cell_type": "code",
   "execution_count": 185,
   "metadata": {},
   "outputs": [
    {
     "data": {
      "text/plain": [
       "54"
      ]
     },
     "execution_count": 185,
     "metadata": {},
     "output_type": "execute_result"
    }
   ],
   "source": [
    "len(zip_dist)"
   ]
  },
  {
   "cell_type": "code",
   "execution_count": 113,
   "metadata": {},
   "outputs": [
    {
     "data": {
      "text/plain": [
       "<matplotlib.axes._subplots.AxesSubplot at 0x7fb127d463c8>"
      ]
     },
     "execution_count": 113,
     "metadata": {},
     "output_type": "execute_result"
    },
    {
     "data": {
      "image/png": "[encoded data removed]",
      "text/plain": [
       "<Figure size 864x288 with 1 Axes>"
      ]
     },
     "metadata": {
      "needs_background": "light"
     },
     "output_type": "display_data"
    }
   ],
   "source": [
    "zip_dist.plot(kind='bar', \n",
    "              color='#c0c0c0', \n",
    "              figsize=(12,4),\n",
    "              ylabel='Number of stores'\n",
    "             )"
   ]
  },
  {
   "cell_type": "code",
   "execution_count": 120,
   "metadata": {},
   "outputs": [],
   "source": [
    "chidata = json.load(open('../data/chicagogeo.json'))"
   ]
  },
  {
   "cell_type": "code",
   "execution_count": 228,
   "metadata": {},
   "outputs": [],
   "source": [
    "chistr=json.dumps(chidata, indent=4)"
   ]
  },
  {
   "cell_type": "markdown",
   "metadata": {},
   "source": [
    "If I want to map the data, I need to separate the values for longitude and latitude since they are both in the same column in this dataframe. Latitude is written first, but all points are also accompanied by a \"POINT\", which will be _super_ fun to deal with."
   ]
  },
  {
   "cell_type": "markdown",
   "metadata": {},
   "source": [
    "* Also NaN values that I have to get rid of."
   ]
  },
  {
   "cell_type": "code",
   "execution_count": 125,
   "metadata": {},
   "outputs": [
    {
     "data": {
      "text/plain": [
       "1              POINT (-87.785559 41.926236)\n",
       "2              POINT (-87.647384 41.880557)\n",
       "3      POINT (-87.66563800000002 41.836512)\n",
       "4              POINT (-87.587472 41.752778)\n",
       "5              POINT (-87.663901 41.765174)\n",
       "                       ...                 \n",
       "259            POINT (-87.633033 41.843813)\n",
       "260            POINT (-87.699541 41.994349)\n",
       "261            POINT (-87.782075 41.777702)\n",
       "262    POINT (-87.79769200000001 41.938134)\n",
       "263            POINT (-87.707908 41.968473)\n",
       "Name: Location, Length: 261, dtype: object"
      ]
     },
     "execution_count": 125,
     "metadata": {},
     "output_type": "execute_result"
    }
   ],
   "source": [
    "chi_grocery = chi_grocery.dropna(subset = ['Location'], how = \"any\")\n",
    "chi_grocery['Location']\n",
    "#2 NaN values gone now"
   ]
  },
  {
   "cell_type": "code",
   "execution_count": 139,
   "metadata": {},
   "outputs": [],
   "source": [
    "def latitudegetter(locationvalue):\n",
    "#latitude will be written first\n",
    "    split_location1 = locationvalue.split(\" \")\n",
    "    return split_location1[1]\n",
    "\n",
    "\n",
    "def longitudegetter(locationvalue):\n",
    "#longitude will be written second\n",
    "    split_location2 = locationvalue.split(\" \")\n",
    "    return split_location2[2]"
   ]
  },
  {
   "cell_type": "code",
   "execution_count": 141,
   "metadata": {},
   "outputs": [
    {
     "name": "stderr",
     "output_type": "stream",
     "text": [
      "/usr/local/anaconda3/lib/python3.7/site-packages/ipykernel_launcher.py:1: SettingWithCopyWarning: \n",
      "A value is trying to be set on a copy of a slice from a DataFrame.\n",
      "Try using .loc[row_indexer,col_indexer] = value instead\n",
      "\n",
      "See the caveats in the documentation: https://pandas.pydata.org/pandas-docs/stable/user_guide/indexing.html#returning-a-view-versus-a-copy\n",
      "  \"\"\"Entry point for launching an IPython kernel.\n",
      "/usr/local/anaconda3/lib/python3.7/site-packages/ipykernel_launcher.py:2: SettingWithCopyWarning: \n",
      "A value is trying to be set on a copy of a slice from a DataFrame.\n",
      "Try using .loc[row_indexer,col_indexer] = value instead\n",
      "\n",
      "See the caveats in the documentation: https://pandas.pydata.org/pandas-docs/stable/user_guide/indexing.html#returning-a-view-versus-a-copy\n",
      "  \n"
     ]
    }
   ],
   "source": [
    "chi_grocery['Latitude'] = chi_grocery['Location'].apply(latitudegetter)\n",
    "chi_grocery['Longitude'] = chi_grocery['Location'].apply(longitudegetter)"
   ]
  },
  {
   "cell_type": "markdown",
   "metadata": {},
   "source": [
    "Gonna put a pin in the mapping - just going to compare incomes"
   ]
  },
  {
   "cell_type": "markdown",
   "metadata": {},
   "source": [
    "# FB\n",
    "\n",
    "* This is an interesting one because the CSV data sheet obviously at some point had a `geometry` column with `shapely` like objects in it. But it is loaded into `pandas` as a string onbject.\n",
    "\n",
    "\n",
    "* There is a helper function in `shapely` that will turn a string into a geometry object\n",
    "    * `shapely.wkt.loads()`, for example:\n"
   ]
  },
  {
   "cell_type": "code",
   "execution_count": 235,
   "metadata": {},
   "outputs": [
    {
     "data": {
      "image/svg+xml": [
       "<svg xmlns=\"http://www.w3.org/2000/svg\" xmlns:xlink=\"http://www.w3.org/1999/xlink\" width=\"100.0\" height=\"100.0\" viewBox=\"-88.785559 40.926236 2.0 2.0\" preserveAspectRatio=\"xMinYMin meet\"><g transform=\"matrix(1,0,0,-1,0,83.852472)\"><circle cx=\"-87.785559\" cy=\"41.926236\" r=\"0.06\" stroke=\"#555555\" stroke-width=\"0.02\" fill=\"#66cc99\" opacity=\"0.6\" /></g></svg>"
      ],
      "text/plain": [
       "<shapely.geometry.point.Point at 0x7fb122e70160>"
      ]
     },
     "execution_count": 235,
     "metadata": {},
     "output_type": "execute_result"
    }
   ],
   "source": [
    "point_str = 'POINT (-87.785559 41.926236)'\n",
    "shapely.wkt.loads(point_str)"
   ]
  },
  {
   "cell_type": "markdown",
   "metadata": {},
   "source": [
    "* So you can apply this to each of the values in the `Location` column and then add the new column as `geometry` and create `GeoDataFrame`:"
   ]
  },
  {
   "cell_type": "code",
   "execution_count": 247,
   "metadata": {},
   "outputs": [],
   "source": [
    "chi_grocery['geometry']=chi_grocery['Location'].apply(shapely.wkt.loads)"
   ]
  },
  {
   "cell_type": "code",
   "execution_count": 248,
   "metadata": {
    "scrolled": true
   },
   "outputs": [
    {
     "data": {
      "text/html": [
       "<div>\n",
       "<style scoped>\n",
       "    .dataframe tbody tr th:only-of-type {\n",
       "        vertical-align: middle;\n",
       "    }\n",
       "\n",
       "    .dataframe tbody tr th {\n",
       "        vertical-align: top;\n",
       "    }\n",
       "\n",
       "    .dataframe thead th {\n",
       "        text-align: right;\n",
       "    }\n",
       "</style>\n",
       "<table border=\"1\" class=\"dataframe\">\n",
       "  <thead>\n",
       "    <tr style=\"text-align: right;\">\n",
       "      <th></th>\n",
       "      <th>Store Name</th>\n",
       "      <th>Address</th>\n",
       "      <th>Zip</th>\n",
       "      <th>New status</th>\n",
       "      <th>Last updated</th>\n",
       "      <th>Location</th>\n",
       "      <th>Latitude</th>\n",
       "      <th>Longitude</th>\n",
       "      <th>geometry</th>\n",
       "    </tr>\n",
       "  </thead>\n",
       "  <tbody>\n",
       "    <tr>\n",
       "      <th>1</th>\n",
       "      <td>Jewel - Osco</td>\n",
       "      <td>2520 N Narragansett Ave</td>\n",
       "      <td>60639</td>\n",
       "      <td>OPEN</td>\n",
       "      <td>06/03/2020 05:00:00 PM</td>\n",
       "      <td>POINT (-87.785559 41.926236)</td>\n",
       "      <td>(-87.785559</td>\n",
       "      <td>41.926236)</td>\n",
       "      <td>POINT (-87.78555900000001 41.926236)</td>\n",
       "    </tr>\n",
       "    <tr>\n",
       "      <th>2</th>\n",
       "      <td>Mariano's Fresh Market</td>\n",
       "      <td>40 S Halsted St</td>\n",
       "      <td>60661</td>\n",
       "      <td>OPEN</td>\n",
       "      <td>NaN</td>\n",
       "      <td>POINT (-87.647384 41.880557)</td>\n",
       "      <td>(-87.647384</td>\n",
       "      <td>41.880557)</td>\n",
       "      <td>POINT (-87.647384 41.880557)</td>\n",
       "    </tr>\n",
       "    <tr>\n",
       "      <th>3</th>\n",
       "      <td>Mariano's Fresh Market</td>\n",
       "      <td>3145 South Ashland Ave</td>\n",
       "      <td>60608</td>\n",
       "      <td>OPEN</td>\n",
       "      <td>06/05/2020 01:21:00 PM</td>\n",
       "      <td>POINT (-87.66563800000002 41.836512)</td>\n",
       "      <td>(-87.66563800000002</td>\n",
       "      <td>41.836512)</td>\n",
       "      <td>POINT (-87.66563800000002 41.836512)</td>\n",
       "    </tr>\n",
       "    <tr>\n",
       "      <th>4</th>\n",
       "      <td>Aldi</td>\n",
       "      <td>7800 S South Chicago Ave</td>\n",
       "      <td>60619</td>\n",
       "      <td>OPEN</td>\n",
       "      <td>06/05/2020 01:21:00 PM</td>\n",
       "      <td>POINT (-87.587472 41.752778)</td>\n",
       "      <td>(-87.587472</td>\n",
       "      <td>41.752778)</td>\n",
       "      <td>POINT (-87.58747200000001 41.752778)</td>\n",
       "    </tr>\n",
       "    <tr>\n",
       "      <th>5</th>\n",
       "      <td>Food 4 Less</td>\n",
       "      <td>7030 S Ashland Ave</td>\n",
       "      <td>60636</td>\n",
       "      <td>OPEN</td>\n",
       "      <td>06/05/2020 01:21:00 PM</td>\n",
       "      <td>POINT (-87.663901 41.765174)</td>\n",
       "      <td>(-87.663901</td>\n",
       "      <td>41.765174)</td>\n",
       "      <td>POINT (-87.663901 41.765174)</td>\n",
       "    </tr>\n",
       "  </tbody>\n",
       "</table>\n",
       "</div>"
      ],
      "text/plain": [
       "               Store Name                   Address    Zip New status  \\\n",
       "1            Jewel - Osco   2520 N Narragansett Ave  60639       OPEN   \n",
       "2  Mariano's Fresh Market           40 S Halsted St  60661       OPEN   \n",
       "3  Mariano's Fresh Market    3145 South Ashland Ave  60608       OPEN   \n",
       "4                    Aldi  7800 S South Chicago Ave  60619       OPEN   \n",
       "5             Food 4 Less        7030 S Ashland Ave  60636       OPEN   \n",
       "\n",
       "             Last updated                              Location  \\\n",
       "1  06/03/2020 05:00:00 PM          POINT (-87.785559 41.926236)   \n",
       "2                     NaN          POINT (-87.647384 41.880557)   \n",
       "3  06/05/2020 01:21:00 PM  POINT (-87.66563800000002 41.836512)   \n",
       "4  06/05/2020 01:21:00 PM          POINT (-87.587472 41.752778)   \n",
       "5  06/05/2020 01:21:00 PM          POINT (-87.663901 41.765174)   \n",
       "\n",
       "              Latitude   Longitude                              geometry  \n",
       "1          (-87.785559  41.926236)  POINT (-87.78555900000001 41.926236)  \n",
       "2          (-87.647384  41.880557)          POINT (-87.647384 41.880557)  \n",
       "3  (-87.66563800000002  41.836512)  POINT (-87.66563800000002 41.836512)  \n",
       "4          (-87.587472  41.752778)  POINT (-87.58747200000001 41.752778)  \n",
       "5          (-87.663901  41.765174)          POINT (-87.663901 41.765174)  "
      ]
     },
     "execution_count": 248,
     "metadata": {},
     "output_type": "execute_result"
    }
   ],
   "source": [
    "chi_grocery.head()"
   ]
  },
  {
   "cell_type": "code",
   "execution_count": 249,
   "metadata": {},
   "outputs": [],
   "source": [
    "chi_grocery_gdf=gpd.GeoDataFrame(chi_grocery)"
   ]
  },
  {
   "cell_type": "code",
   "execution_count": 250,
   "metadata": {},
   "outputs": [
    {
     "data": {
      "text/plain": [
       "<matplotlib.axes._subplots.AxesSubplot at 0x7fb122c6cd68>"
      ]
     },
     "execution_count": 250,
     "metadata": {},
     "output_type": "execute_result"
    },
    {
     "data": {
      "image/png": "[encoded data removed]",
      "text/plain": [
       "<Figure size 432x288 with 1 Axes>"
      ]
     },
     "metadata": {
      "needs_background": "light"
     },
     "output_type": "display_data"
    }
   ],
   "source": [
    "chi_grocery_gdf.plot()"
   ]
  },
  {
   "cell_type": "code",
   "execution_count": 251,
   "metadata": {},
   "outputs": [
    {
     "data": {
      "text/plain": [
       "<matplotlib.axes._subplots.AxesSubplot at 0x7fb122c356d8>"
      ]
     },
     "execution_count": 251,
     "metadata": {},
     "output_type": "execute_result"
    },
    {
     "data": {
      "image/png": "[encoded data removed]",
      "text/plain": [
       "<Figure size 432x432 with 1 Axes>"
      ]
     },
     "metadata": {
      "needs_background": "light"
     },
     "output_type": "display_data"
    }
   ],
   "source": [
    "chi_grocery_gdf.plot(column='New status', legend=True, figsize=(6,6))"
   ]
  },
  {
   "cell_type": "markdown",
   "metadata": {},
   "source": [
    "#### Looking at income"
   ]
  },
  {
   "cell_type": "code",
   "execution_count": 144,
   "metadata": {},
   "outputs": [
    {
     "data": {
      "text/html": [
       "<div>\n",
       "<style scoped>\n",
       "    .dataframe tbody tr th:only-of-type {\n",
       "        vertical-align: middle;\n",
       "    }\n",
       "\n",
       "    .dataframe tbody tr th {\n",
       "        vertical-align: top;\n",
       "    }\n",
       "\n",
       "    .dataframe thead th {\n",
       "        text-align: right;\n",
       "    }\n",
       "</style>\n",
       "<table border=\"1\" class=\"dataframe\">\n",
       "  <thead>\n",
       "    <tr style=\"text-align: right;\">\n",
       "      <th></th>\n",
       "      <th>#</th>\n",
       "      <th>Zip Code</th>\n",
       "      <th>Location</th>\n",
       "      <th>City</th>\n",
       "      <th>Population</th>\n",
       "      <th>Avg. Income/H/hold</th>\n",
       "      <th>National Rank</th>\n",
       "    </tr>\n",
       "  </thead>\n",
       "  <tbody>\n",
       "    <tr>\n",
       "      <th>0</th>\n",
       "      <td>1</td>\n",
       "      <td>60606</td>\n",
       "      <td>41.881988, -87.637329</td>\n",
       "      <td>Chicago, Illinois</td>\n",
       "      <td>1682</td>\n",
       "      <td>100377</td>\n",
       "      <td>#259</td>\n",
       "    </tr>\n",
       "    <tr>\n",
       "      <th>1</th>\n",
       "      <td>2</td>\n",
       "      <td>60601</td>\n",
       "      <td>41.885805, -87.622911</td>\n",
       "      <td>Chicago, Illinois</td>\n",
       "      <td>5591</td>\n",
       "      <td>77374</td>\n",
       "      <td>#961</td>\n",
       "    </tr>\n",
       "    <tr>\n",
       "      <th>2</th>\n",
       "      <td>3</td>\n",
       "      <td>60611</td>\n",
       "      <td>41.893024, -87.618998</td>\n",
       "      <td>Chicago, Illinois</td>\n",
       "      <td>26522</td>\n",
       "      <td>69889</td>\n",
       "      <td>#1,558</td>\n",
       "    </tr>\n",
       "    <tr>\n",
       "      <th>3</th>\n",
       "      <td>4</td>\n",
       "      <td>60614</td>\n",
       "      <td>41.922667, -87.652537</td>\n",
       "      <td>Chicago, Illinois</td>\n",
       "      <td>65474</td>\n",
       "      <td>68324</td>\n",
       "      <td>#1,712</td>\n",
       "    </tr>\n",
       "    <tr>\n",
       "      <th>4</th>\n",
       "      <td>5</td>\n",
       "      <td>60603</td>\n",
       "      <td>41.880614, -87.629311</td>\n",
       "      <td>Chicago, Illinois</td>\n",
       "      <td>378</td>\n",
       "      <td>61815</td>\n",
       "      <td>#2,591</td>\n",
       "    </tr>\n",
       "  </tbody>\n",
       "</table>\n",
       "</div>"
      ],
      "text/plain": [
       "   #  Zip Code               Location               City  Population  \\\n",
       "0  1     60606  41.881988, -87.637329  Chicago, Illinois        1682   \n",
       "1  2     60601  41.885805, -87.622911  Chicago, Illinois        5591   \n",
       "2  3     60611  41.893024, -87.618998  Chicago, Illinois       26522   \n",
       "3  4     60614  41.922667, -87.652537  Chicago, Illinois       65474   \n",
       "4  5     60603  41.880614, -87.629311  Chicago, Illinois         378   \n",
       "\n",
       "   Avg. Income/H/hold National Rank  \n",
       "0              100377          #259  \n",
       "1               77374          #961  \n",
       "2               69889        #1,558  \n",
       "3               68324        #1,712  \n",
       "4               61815        #2,591  "
      ]
     },
     "execution_count": 144,
     "metadata": {},
     "output_type": "execute_result"
    }
   ],
   "source": [
    "chicagoincome = pd.read_excel('../data/chicagoincome.xlsx')\n",
    "chicagoincome.head()"
   ]
  },
  {
   "cell_type": "code",
   "execution_count": 183,
   "metadata": {},
   "outputs": [
    {
     "data": {
      "text/plain": [
       "(55, 7)"
      ]
     },
     "execution_count": 183,
     "metadata": {},
     "output_type": "execute_result"
    }
   ],
   "source": [
    "chicagoincome.shape"
   ]
  },
  {
   "cell_type": "markdown",
   "metadata": {},
   "source": [
    "Not sure what national rank means so I am going to ignore it, but the rest of the data is super useful. Again, has zip codes and location values."
   ]
  },
  {
   "cell_type": "markdown",
   "metadata": {},
   "source": [
    "I already have the distribution of grocery stores in each zip code, I just have to take the top 5 and compare them to the top 5 incomes. The income dataset is already sorted."
   ]
  },
  {
   "cell_type": "code",
   "execution_count": 146,
   "metadata": {
    "scrolled": true
   },
   "outputs": [
    {
     "data": {
      "text/plain": [
       "60639    16\n",
       "60647    15\n",
       "60608    14\n",
       "60620    11\n",
       "60614    11\n",
       "Name: Zip, dtype: int64"
      ]
     },
     "execution_count": 146,
     "metadata": {},
     "output_type": "execute_result"
    }
   ],
   "source": [
    "zip_dist.head()"
   ]
  },
  {
   "cell_type": "code",
   "execution_count": 150,
   "metadata": {
    "scrolled": true
   },
   "outputs": [
    {
     "data": {
      "text/html": [
       "<div>\n",
       "<style scoped>\n",
       "    .dataframe tbody tr th:only-of-type {\n",
       "        vertical-align: middle;\n",
       "    }\n",
       "\n",
       "    .dataframe tbody tr th {\n",
       "        vertical-align: top;\n",
       "    }\n",
       "\n",
       "    .dataframe thead th {\n",
       "        text-align: right;\n",
       "    }\n",
       "</style>\n",
       "<table border=\"1\" class=\"dataframe\">\n",
       "  <thead>\n",
       "    <tr style=\"text-align: right;\">\n",
       "      <th></th>\n",
       "      <th>Zip Code</th>\n",
       "      <th>Avg. Income/H/hold</th>\n",
       "    </tr>\n",
       "  </thead>\n",
       "  <tbody>\n",
       "    <tr>\n",
       "      <th>0</th>\n",
       "      <td>60606</td>\n",
       "      <td>100377</td>\n",
       "    </tr>\n",
       "    <tr>\n",
       "      <th>1</th>\n",
       "      <td>60601</td>\n",
       "      <td>77374</td>\n",
       "    </tr>\n",
       "    <tr>\n",
       "      <th>2</th>\n",
       "      <td>60611</td>\n",
       "      <td>69889</td>\n",
       "    </tr>\n",
       "    <tr>\n",
       "      <th>3</th>\n",
       "      <td>60614</td>\n",
       "      <td>68324</td>\n",
       "    </tr>\n",
       "    <tr>\n",
       "      <th>4</th>\n",
       "      <td>60603</td>\n",
       "      <td>61815</td>\n",
       "    </tr>\n",
       "  </tbody>\n",
       "</table>\n",
       "</div>"
      ],
      "text/plain": [
       "   Zip Code  Avg. Income/H/hold\n",
       "0     60606              100377\n",
       "1     60601               77374\n",
       "2     60611               69889\n",
       "3     60614               68324\n",
       "4     60603               61815"
      ]
     },
     "execution_count": 150,
     "metadata": {},
     "output_type": "execute_result"
    }
   ],
   "source": [
    "chicagoincome[['Zip Code','Avg. Income/H/hold']].head()"
   ]
  },
  {
   "cell_type": "markdown",
   "metadata": {},
   "source": [
    "Only one of these zip codes is one of the zip codes with the most grocery stores, so I will now see if there are more in the bottom."
   ]
  },
  {
   "cell_type": "code",
   "execution_count": 153,
   "metadata": {},
   "outputs": [
    {
     "data": {
      "text/html": [
       "<div>\n",
       "<style scoped>\n",
       "    .dataframe tbody tr th:only-of-type {\n",
       "        vertical-align: middle;\n",
       "    }\n",
       "\n",
       "    .dataframe tbody tr th {\n",
       "        vertical-align: top;\n",
       "    }\n",
       "\n",
       "    .dataframe thead th {\n",
       "        text-align: right;\n",
       "    }\n",
       "</style>\n",
       "<table border=\"1\" class=\"dataframe\">\n",
       "  <thead>\n",
       "    <tr style=\"text-align: right;\">\n",
       "      <th></th>\n",
       "      <th>Zip Code</th>\n",
       "      <th>Avg. Income/H/hold</th>\n",
       "    </tr>\n",
       "  </thead>\n",
       "  <tbody>\n",
       "    <tr>\n",
       "      <th>50</th>\n",
       "      <td>60637</td>\n",
       "      <td>23228</td>\n",
       "    </tr>\n",
       "    <tr>\n",
       "      <th>51</th>\n",
       "      <td>60624</td>\n",
       "      <td>22426</td>\n",
       "    </tr>\n",
       "    <tr>\n",
       "      <th>52</th>\n",
       "      <td>60621</td>\n",
       "      <td>19718</td>\n",
       "    </tr>\n",
       "    <tr>\n",
       "      <th>53</th>\n",
       "      <td>60653</td>\n",
       "      <td>14205</td>\n",
       "    </tr>\n",
       "    <tr>\n",
       "      <th>54</th>\n",
       "      <td>60654</td>\n",
       "      <td>0</td>\n",
       "    </tr>\n",
       "  </tbody>\n",
       "</table>\n",
       "</div>"
      ],
      "text/plain": [
       "    Zip Code  Avg. Income/H/hold\n",
       "50     60637               23228\n",
       "51     60624               22426\n",
       "52     60621               19718\n",
       "53     60653               14205\n",
       "54     60654                   0"
      ]
     },
     "execution_count": 153,
     "metadata": {},
     "output_type": "execute_result"
    }
   ],
   "source": [
    "chicagoincome[['Zip Code','Avg. Income/H/hold']][-5:]"
   ]
  },
  {
   "cell_type": "markdown",
   "metadata": {},
   "source": [
    "Nope"
   ]
  },
  {
   "cell_type": "code",
   "execution_count": 156,
   "metadata": {},
   "outputs": [
    {
     "data": {
      "text/html": [
       "<div>\n",
       "<style scoped>\n",
       "    .dataframe tbody tr th:only-of-type {\n",
       "        vertical-align: middle;\n",
       "    }\n",
       "\n",
       "    .dataframe tbody tr th {\n",
       "        vertical-align: top;\n",
       "    }\n",
       "\n",
       "    .dataframe thead th {\n",
       "        text-align: right;\n",
       "    }\n",
       "</style>\n",
       "<table border=\"1\" class=\"dataframe\">\n",
       "  <thead>\n",
       "    <tr style=\"text-align: right;\">\n",
       "      <th></th>\n",
       "      <th>#</th>\n",
       "      <th>Zip Code</th>\n",
       "      <th>Location</th>\n",
       "      <th>City</th>\n",
       "      <th>Population</th>\n",
       "      <th>Avg. Income/H/hold</th>\n",
       "      <th>National Rank</th>\n",
       "    </tr>\n",
       "  </thead>\n",
       "  <tbody>\n",
       "    <tr>\n",
       "      <th>26</th>\n",
       "      <td>27</td>\n",
       "      <td>60639</td>\n",
       "      <td>41.920639, -87.755793</td>\n",
       "      <td>Chicago, Illinois</td>\n",
       "      <td>92951</td>\n",
       "      <td>40165</td>\n",
       "      <td>#11,993</td>\n",
       "    </tr>\n",
       "  </tbody>\n",
       "</table>\n",
       "</div>"
      ],
      "text/plain": [
       "     #  Zip Code               Location               City  Population  \\\n",
       "26  27     60639  41.920639, -87.755793  Chicago, Illinois       92951   \n",
       "\n",
       "    Avg. Income/H/hold National Rank  \n",
       "26               40165       #11,993  "
      ]
     },
     "execution_count": 156,
     "metadata": {},
     "output_type": "execute_result"
    }
   ],
   "source": [
    "#60639 is the most grocery store rich zip code. What is its income?\n",
    "chicagoincome[chicagoincome['Zip Code'] == 60639]"
   ]
  },
  {
   "cell_type": "code",
   "execution_count": 158,
   "metadata": {},
   "outputs": [
    {
     "data": {
      "text/plain": [
       "41027.70909090909"
      ]
     },
     "execution_count": 158,
     "metadata": {},
     "output_type": "execute_result"
    }
   ],
   "source": [
    "chicagoincome['Avg. Income/H/hold'].mean()"
   ]
  },
  {
   "cell_type": "code",
   "execution_count": 160,
   "metadata": {},
   "outputs": [
    {
     "data": {
      "text/plain": [
       "40083.0"
      ]
     },
     "execution_count": 160,
     "metadata": {},
     "output_type": "execute_result"
    }
   ],
   "source": [
    "chicagoincome['Avg. Income/H/hold'].median()"
   ]
  },
  {
   "cell_type": "markdown",
   "metadata": {},
   "source": [
    "So, the income of this zip code is average relative to the city of Chicago itself."
   ]
  },
  {
   "cell_type": "markdown",
   "metadata": {},
   "source": [
    "# FB\n",
    "\n",
    "* Good work going through these steps and documenting them\n",
    "* What are the units of `population`? Is `1682` just one thousand six hundred and eighty two or is in in thousands etc? You should make sure to document.\n",
    "\n",
    "* Remember you should rename your columns so you don't have to do things like:\n",
    "  ```\n",
    "  chicagoincome['Avg. Income/H/hold']\n",
    "  ```\n",
    "* As we have mention often it is worth going through the exploration, cleaning and subsetting of a data frame one in a notebook and then saving the result. Then you can use the clean version in subsequent notebooks.  \n",
    "  "
   ]
  },
  {
   "cell_type": "markdown",
   "metadata": {},
   "source": [
    "## Block 2"
   ]
  },
  {
   "cell_type": "markdown",
   "metadata": {},
   "source": [
    "Is there a grocery store chain that is prevalent in the most affluent zip codes of Chicago?"
   ]
  },
  {
   "cell_type": "markdown",
   "metadata": {},
   "source": [
    "1. _Take most affluent zip codes_\n",
    "2. _Create subset of Chicago grocery stores data set_\n",
    "3. _Find the distribution of grocery stores_"
   ]
  },
  {
   "cell_type": "code",
   "execution_count": 186,
   "metadata": {
    "scrolled": true
   },
   "outputs": [
    {
     "data": {
      "text/html": [
       "<div>\n",
       "<style scoped>\n",
       "    .dataframe tbody tr th:only-of-type {\n",
       "        vertical-align: middle;\n",
       "    }\n",
       "\n",
       "    .dataframe tbody tr th {\n",
       "        vertical-align: top;\n",
       "    }\n",
       "\n",
       "    .dataframe thead th {\n",
       "        text-align: right;\n",
       "    }\n",
       "</style>\n",
       "<table border=\"1\" class=\"dataframe\">\n",
       "  <thead>\n",
       "    <tr style=\"text-align: right;\">\n",
       "      <th></th>\n",
       "      <th>Zip Code</th>\n",
       "      <th>Avg. Income/H/hold</th>\n",
       "    </tr>\n",
       "  </thead>\n",
       "  <tbody>\n",
       "    <tr>\n",
       "      <th>0</th>\n",
       "      <td>60606</td>\n",
       "      <td>100377</td>\n",
       "    </tr>\n",
       "    <tr>\n",
       "      <th>1</th>\n",
       "      <td>60601</td>\n",
       "      <td>77374</td>\n",
       "    </tr>\n",
       "    <tr>\n",
       "      <th>2</th>\n",
       "      <td>60611</td>\n",
       "      <td>69889</td>\n",
       "    </tr>\n",
       "    <tr>\n",
       "      <th>3</th>\n",
       "      <td>60614</td>\n",
       "      <td>68324</td>\n",
       "    </tr>\n",
       "    <tr>\n",
       "      <th>4</th>\n",
       "      <td>60603</td>\n",
       "      <td>61815</td>\n",
       "    </tr>\n",
       "  </tbody>\n",
       "</table>\n",
       "</div>"
      ],
      "text/plain": [
       "   Zip Code  Avg. Income/H/hold\n",
       "0     60606              100377\n",
       "1     60601               77374\n",
       "2     60611               69889\n",
       "3     60614               68324\n",
       "4     60603               61815"
      ]
     },
     "execution_count": 186,
     "metadata": {},
     "output_type": "execute_result"
    }
   ],
   "source": [
    "#another look at the most affluent zip codes in Chicago and the incomes\n",
    "chicagoincome[['Zip Code','Avg. Income/H/hold']].head()"
   ]
  },
  {
   "cell_type": "code",
   "execution_count": 189,
   "metadata": {
    "scrolled": false
   },
   "outputs": [
    {
     "data": {
      "text/plain": [
       "Target                            3\n",
       "Trader Joe's                      3\n",
       "Whole Foods Market                2\n",
       "Aldi                              2\n",
       "Potash Markets                    1\n",
       "Bockwinkel's at McClurg           1\n",
       "Bockwinkel's at Park Millenium    1\n",
       "Big Apple Finer Foods             1\n",
       "Jewel - Osco                      1\n",
       "Mariano's Fresh Market            1\n",
       "Costco                            1\n",
       "Carnival Grocery & Liquor         1\n",
       "Mariano's Lakeshore East          1\n",
       "Bockwinkel's Fresh Express        1\n",
       "Name: Store Name, dtype: int64"
      ]
     },
     "execution_count": 189,
     "metadata": {},
     "output_type": "execute_result"
    }
   ],
   "source": [
    "chi_zips_richest = ['60606','60601','60611','60614','60603']\n",
    "richest_groceries = chi_grocery[chi_grocery['Zip'].isin(chi_zips_richest)]\n",
    "richest_groceries['Store Name'].value_counts()"
   ]
  },
  {
   "cell_type": "code",
   "execution_count": 190,
   "metadata": {},
   "outputs": [
    {
     "data": {
      "text/plain": [
       "20"
      ]
     },
     "execution_count": 190,
     "metadata": {},
     "output_type": "execute_result"
    }
   ],
   "source": [
    "len(richest_groceries)"
   ]
  },
  {
   "cell_type": "markdown",
   "metadata": {},
   "source": [
    "There are 20 grocery stores in these five zip codes. What is the population? How many grocery stores per person?"
   ]
  },
  {
   "cell_type": "code",
   "execution_count": 193,
   "metadata": {},
   "outputs": [
    {
     "data": {
      "text/plain": [
       "99647"
      ]
     },
     "execution_count": 193,
     "metadata": {},
     "output_type": "execute_result"
    }
   ],
   "source": [
    "top_5_income_w_pop = chicagoincome.head()\n",
    "top_5_income_w_pop['Population'].sum()"
   ]
  },
  {
   "cell_type": "markdown",
   "metadata": {},
   "source": [
    "A little less than 100,000 people. However, when looking at the names of these grocery stores, you can see that there are multiple Whole Foods and Trader Joe's, plus smaller stores that have \"fresh\" or something similar in the names. The common grocery stores in this area seem to contain fresher food, which tends to be more expensive."
   ]
  },
  {
   "cell_type": "markdown",
   "metadata": {},
   "source": [
    "# FB\n",
    "\n",
    "* Good! You could use this approach to calculate a metric of stores-to-population ratio \n",
    "\n",
    "\n",
    "* Given that you have zip code in common you could subset the income data frame to two columns (zip and income) and then merge it with your grocery store one to make some of these calculations more straight forward.\n",
    "\n",
    "\n",
    "* The national ranking I guess is based on all zipcodes across the US? That be quite interesting way to get a big income disparities within the city."
   ]
  },
  {
   "cell_type": "markdown",
   "metadata": {},
   "source": [
    "## Block 3\n",
    "Is this any different for the least affluent zip codes?"
   ]
  },
  {
   "cell_type": "code",
   "execution_count": 201,
   "metadata": {
    "scrolled": true
   },
   "outputs": [
    {
     "data": {
      "text/html": [
       "<div>\n",
       "<style scoped>\n",
       "    .dataframe tbody tr th:only-of-type {\n",
       "        vertical-align: middle;\n",
       "    }\n",
       "\n",
       "    .dataframe tbody tr th {\n",
       "        vertical-align: top;\n",
       "    }\n",
       "\n",
       "    .dataframe thead th {\n",
       "        text-align: right;\n",
       "    }\n",
       "</style>\n",
       "<table border=\"1\" class=\"dataframe\">\n",
       "  <thead>\n",
       "    <tr style=\"text-align: right;\">\n",
       "      <th></th>\n",
       "      <th>#</th>\n",
       "      <th>Zip Code</th>\n",
       "      <th>Location</th>\n",
       "      <th>City</th>\n",
       "      <th>Population</th>\n",
       "      <th>Avg. Income/H/hold</th>\n",
       "      <th>National Rank</th>\n",
       "    </tr>\n",
       "  </thead>\n",
       "  <tbody>\n",
       "    <tr>\n",
       "      <th>49</th>\n",
       "      <td>50</td>\n",
       "      <td>60602</td>\n",
       "      <td>41.883067, -87.629187</td>\n",
       "      <td>Chicago, Illinois</td>\n",
       "      <td>70</td>\n",
       "      <td>23750</td>\n",
       "      <td>#28,954</td>\n",
       "    </tr>\n",
       "    <tr>\n",
       "      <th>50</th>\n",
       "      <td>51</td>\n",
       "      <td>60637</td>\n",
       "      <td>41.780673, -87.603500</td>\n",
       "      <td>Chicago, Illinois</td>\n",
       "      <td>57090</td>\n",
       "      <td>23228</td>\n",
       "      <td>#29,245</td>\n",
       "    </tr>\n",
       "    <tr>\n",
       "      <th>51</th>\n",
       "      <td>52</td>\n",
       "      <td>60624</td>\n",
       "      <td>41.880048, -87.722352</td>\n",
       "      <td>Chicago, Illinois</td>\n",
       "      <td>45647</td>\n",
       "      <td>22426</td>\n",
       "      <td>#29,603</td>\n",
       "    </tr>\n",
       "    <tr>\n",
       "      <th>52</th>\n",
       "      <td>53</td>\n",
       "      <td>60621</td>\n",
       "      <td>41.776404, -87.640058</td>\n",
       "      <td>Chicago, Illinois</td>\n",
       "      <td>47514</td>\n",
       "      <td>19718</td>\n",
       "      <td>#30,613</td>\n",
       "    </tr>\n",
       "    <tr>\n",
       "      <th>53</th>\n",
       "      <td>54</td>\n",
       "      <td>60653</td>\n",
       "      <td>41.819722, -87.611809</td>\n",
       "      <td>Chicago, Illinois</td>\n",
       "      <td>34502</td>\n",
       "      <td>14205</td>\n",
       "      <td>#31,478</td>\n",
       "    </tr>\n",
       "  </tbody>\n",
       "</table>\n",
       "</div>"
      ],
      "text/plain": [
       "     #  Zip Code               Location               City  Population  \\\n",
       "49  50     60602  41.883067, -87.629187  Chicago, Illinois          70   \n",
       "50  51     60637  41.780673, -87.603500  Chicago, Illinois       57090   \n",
       "51  52     60624  41.880048, -87.722352  Chicago, Illinois       45647   \n",
       "52  53     60621  41.776404, -87.640058  Chicago, Illinois       47514   \n",
       "53  54     60653  41.819722, -87.611809  Chicago, Illinois       34502   \n",
       "\n",
       "    Avg. Income/H/hold National Rank  \n",
       "49               23750       #28,954  \n",
       "50               23228       #29,245  \n",
       "51               22426       #29,603  \n",
       "52               19718       #30,613  \n",
       "53               14205       #31,478  "
      ]
     },
     "execution_count": 201,
     "metadata": {},
     "output_type": "execute_result"
    }
   ],
   "source": [
    "# the least affluent zip codes\n",
    "less_affluent = chicagoincome[-6:-1]\n",
    "less_affluent"
   ]
  },
  {
   "cell_type": "code",
   "execution_count": null,
   "metadata": {},
   "outputs": [],
   "source": []
  },
  {
   "cell_type": "code",
   "execution_count": 195,
   "metadata": {},
   "outputs": [
    {
     "data": {
      "text/plain": [
       "Aldi                       3\n",
       "Save A Lot                 2\n",
       "One Stop Foods             1\n",
       "Whole Foods Market         1\n",
       "Woodlawn Super Fair LLC    1\n",
       "Jewel - Osco               1\n",
       "Leamington Foods           1\n",
       "Name: Store Name, dtype: int64"
      ]
     },
     "execution_count": 195,
     "metadata": {},
     "output_type": "execute_result"
    }
   ],
   "source": [
    "chi_zips_not_richest = ['60602','60637','60624','60621','60653']\n",
    "not_richest_groceries = chi_grocery[chi_grocery['Zip'].isin(chi_zips_not_richest)]\n",
    "not_richest_groceries['Store Name'].value_counts()"
   ]
  },
  {
   "cell_type": "code",
   "execution_count": 196,
   "metadata": {},
   "outputs": [
    {
     "data": {
      "text/plain": [
       "10"
      ]
     },
     "execution_count": 196,
     "metadata": {},
     "output_type": "execute_result"
    }
   ],
   "source": [
    "len(not_richest_groceries)"
   ]
  },
  {
   "cell_type": "markdown",
   "metadata": {},
   "source": [
    "There are half as many grocery stores in these zip codes, and half of them (Aldi, Save a Lot) are stores that are known for being much more affordable. \n",
    "* Are these 10 stores serving as many people as the 20 stores for the most affluent zip codes?"
   ]
  },
  {
   "cell_type": "code",
   "execution_count": 200,
   "metadata": {},
   "outputs": [
    {
     "data": {
      "text/plain": [
       "184823"
      ]
     },
     "execution_count": 200,
     "metadata": {},
     "output_type": "execute_result"
    }
   ],
   "source": [
    "less_affluent['Population'].sum()"
   ]
  },
  {
   "cell_type": "markdown",
   "metadata": {},
   "source": [
    "We can see that there are much more people in these zip codes, but they have half as many grocery stores."
   ]
  },
  {
   "cell_type": "markdown",
   "metadata": {},
   "source": [
    "## Block 4 - Why the gap?\n",
    "While the less affluent zip codes have relatively similar incomes, there is a bit more variation in the 5 most affluent zip codes. Let's have another look."
   ]
  },
  {
   "cell_type": "code",
   "execution_count": 202,
   "metadata": {},
   "outputs": [
    {
     "data": {
      "text/html": [
       "<div>\n",
       "<style scoped>\n",
       "    .dataframe tbody tr th:only-of-type {\n",
       "        vertical-align: middle;\n",
       "    }\n",
       "\n",
       "    .dataframe tbody tr th {\n",
       "        vertical-align: top;\n",
       "    }\n",
       "\n",
       "    .dataframe thead th {\n",
       "        text-align: right;\n",
       "    }\n",
       "</style>\n",
       "<table border=\"1\" class=\"dataframe\">\n",
       "  <thead>\n",
       "    <tr style=\"text-align: right;\">\n",
       "      <th></th>\n",
       "      <th>#</th>\n",
       "      <th>Zip Code</th>\n",
       "      <th>Location</th>\n",
       "      <th>City</th>\n",
       "      <th>Population</th>\n",
       "      <th>Avg. Income/H/hold</th>\n",
       "      <th>National Rank</th>\n",
       "    </tr>\n",
       "  </thead>\n",
       "  <tbody>\n",
       "    <tr>\n",
       "      <th>0</th>\n",
       "      <td>1</td>\n",
       "      <td>60606</td>\n",
       "      <td>41.881988, -87.637329</td>\n",
       "      <td>Chicago, Illinois</td>\n",
       "      <td>1682</td>\n",
       "      <td>100377</td>\n",
       "      <td>#259</td>\n",
       "    </tr>\n",
       "    <tr>\n",
       "      <th>1</th>\n",
       "      <td>2</td>\n",
       "      <td>60601</td>\n",
       "      <td>41.885805, -87.622911</td>\n",
       "      <td>Chicago, Illinois</td>\n",
       "      <td>5591</td>\n",
       "      <td>77374</td>\n",
       "      <td>#961</td>\n",
       "    </tr>\n",
       "    <tr>\n",
       "      <th>2</th>\n",
       "      <td>3</td>\n",
       "      <td>60611</td>\n",
       "      <td>41.893024, -87.618998</td>\n",
       "      <td>Chicago, Illinois</td>\n",
       "      <td>26522</td>\n",
       "      <td>69889</td>\n",
       "      <td>#1,558</td>\n",
       "    </tr>\n",
       "    <tr>\n",
       "      <th>3</th>\n",
       "      <td>4</td>\n",
       "      <td>60614</td>\n",
       "      <td>41.922667, -87.652537</td>\n",
       "      <td>Chicago, Illinois</td>\n",
       "      <td>65474</td>\n",
       "      <td>68324</td>\n",
       "      <td>#1,712</td>\n",
       "    </tr>\n",
       "    <tr>\n",
       "      <th>4</th>\n",
       "      <td>5</td>\n",
       "      <td>60603</td>\n",
       "      <td>41.880614, -87.629311</td>\n",
       "      <td>Chicago, Illinois</td>\n",
       "      <td>378</td>\n",
       "      <td>61815</td>\n",
       "      <td>#2,591</td>\n",
       "    </tr>\n",
       "  </tbody>\n",
       "</table>\n",
       "</div>"
      ],
      "text/plain": [
       "   #  Zip Code               Location               City  Population  \\\n",
       "0  1     60606  41.881988, -87.637329  Chicago, Illinois        1682   \n",
       "1  2     60601  41.885805, -87.622911  Chicago, Illinois        5591   \n",
       "2  3     60611  41.893024, -87.618998  Chicago, Illinois       26522   \n",
       "3  4     60614  41.922667, -87.652537  Chicago, Illinois       65474   \n",
       "4  5     60603  41.880614, -87.629311  Chicago, Illinois         378   \n",
       "\n",
       "   Avg. Income/H/hold National Rank  \n",
       "0              100377          #259  \n",
       "1               77374          #961  \n",
       "2               69889        #1,558  \n",
       "3               68324        #1,712  \n",
       "4               61815        #2,591  "
      ]
     },
     "execution_count": 202,
     "metadata": {},
     "output_type": "execute_result"
    }
   ],
   "source": [
    "top_5_income_w_pop"
   ]
  },
  {
   "cell_type": "markdown",
   "metadata": {},
   "source": [
    "###### A few observations about this\n",
    "* The richest zip code is more than 20k richer than the 2nd richest\n",
    "* The 2nd richest zip code is about 8k richer than the 3rd richest\n",
    "* There is a 40k gap between richest and 5th richest\n",
    "\n",
    "I am going to look at the proportion of people who work in manufacturing in this zip code."
   ]
  },
  {
   "cell_type": "code",
   "execution_count": 211,
   "metadata": {
    "scrolled": false
   },
   "outputs": [
    {
     "data": {
      "text/html": [
       "<div>\n",
       "<style scoped>\n",
       "    .dataframe tbody tr th:only-of-type {\n",
       "        vertical-align: middle;\n",
       "    }\n",
       "\n",
       "    .dataframe tbody tr th {\n",
       "        vertical-align: top;\n",
       "    }\n",
       "\n",
       "    .dataframe thead th {\n",
       "        text-align: right;\n",
       "    }\n",
       "</style>\n",
       "<table border=\"1\" class=\"dataframe\">\n",
       "  <thead>\n",
       "    <tr style=\"text-align: right;\">\n",
       "      <th></th>\n",
       "      <th>#</th>\n",
       "      <th>Zip Code</th>\n",
       "      <th>Location</th>\n",
       "      <th>City</th>\n",
       "      <th>Population</th>\n",
       "      <th>% In Manufacturing</th>\n",
       "      <th>National Rank</th>\n",
       "    </tr>\n",
       "  </thead>\n",
       "  <tbody>\n",
       "    <tr>\n",
       "      <th>0</th>\n",
       "      <td>1</td>\n",
       "      <td>60623</td>\n",
       "      <td>41.847079, -87.719446</td>\n",
       "      <td>Chicago, Illinois</td>\n",
       "      <td>108144</td>\n",
       "      <td>0.2802</td>\n",
       "      <td>#3,570</td>\n",
       "    </tr>\n",
       "    <tr>\n",
       "      <th>1</th>\n",
       "      <td>2</td>\n",
       "      <td>60632</td>\n",
       "      <td>41.810213, -87.711761</td>\n",
       "      <td>Chicago, Illinois</td>\n",
       "      <td>87577</td>\n",
       "      <td>0.2695</td>\n",
       "      <td>#4,104</td>\n",
       "    </tr>\n",
       "    <tr>\n",
       "      <th>2</th>\n",
       "      <td>3</td>\n",
       "      <td>60639</td>\n",
       "      <td>41.920639, -87.755793</td>\n",
       "      <td>Chicago, Illinois</td>\n",
       "      <td>92951</td>\n",
       "      <td>0.2682</td>\n",
       "      <td>#4,181</td>\n",
       "    </tr>\n",
       "    <tr>\n",
       "      <th>3</th>\n",
       "      <td>4</td>\n",
       "      <td>60608</td>\n",
       "      <td>41.848647, -87.672320</td>\n",
       "      <td>Chicago, Illinois</td>\n",
       "      <td>92472</td>\n",
       "      <td>0.2348</td>\n",
       "      <td>#6,274</td>\n",
       "    </tr>\n",
       "    <tr>\n",
       "      <th>4</th>\n",
       "      <td>5</td>\n",
       "      <td>60609</td>\n",
       "      <td>41.812680, -87.656935</td>\n",
       "      <td>Chicago, Illinois</td>\n",
       "      <td>79469</td>\n",
       "      <td>0.2114</td>\n",
       "      <td>#8,123</td>\n",
       "    </tr>\n",
       "  </tbody>\n",
       "</table>\n",
       "</div>"
      ],
      "text/plain": [
       "   #  Zip Code               Location               City  Population  \\\n",
       "0  1     60623  41.847079, -87.719446  Chicago, Illinois      108144   \n",
       "1  2     60632  41.810213, -87.711761  Chicago, Illinois       87577   \n",
       "2  3     60639  41.920639, -87.755793  Chicago, Illinois       92951   \n",
       "3  4     60608  41.848647, -87.672320  Chicago, Illinois       92472   \n",
       "4  5     60609  41.812680, -87.656935  Chicago, Illinois       79469   \n",
       "\n",
       "   % In Manufacturing National Rank  \n",
       "0              0.2802        #3,570  \n",
       "1              0.2695        #4,104  \n",
       "2              0.2682        #4,181  \n",
       "3              0.2348        #6,274  \n",
       "4              0.2114        #8,123  "
      ]
     },
     "execution_count": 211,
     "metadata": {},
     "output_type": "execute_result"
    }
   ],
   "source": [
    "chi_manufacturing = pd.read_excel('../data/chimanufacturing.xlsx')\n",
    "chi_manufacturing.head()"
   ]
  },
  {
   "cell_type": "markdown",
   "metadata": {},
   "source": [
    "The percents are not percents, so I have to fix that."
   ]
  },
  {
   "cell_type": "code",
   "execution_count": 212,
   "metadata": {
    "scrolled": true
   },
   "outputs": [
    {
     "data": {
      "text/html": [
       "<div>\n",
       "<style scoped>\n",
       "    .dataframe tbody tr th:only-of-type {\n",
       "        vertical-align: middle;\n",
       "    }\n",
       "\n",
       "    .dataframe tbody tr th {\n",
       "        vertical-align: top;\n",
       "    }\n",
       "\n",
       "    .dataframe thead th {\n",
       "        text-align: right;\n",
       "    }\n",
       "</style>\n",
       "<table border=\"1\" class=\"dataframe\">\n",
       "  <thead>\n",
       "    <tr style=\"text-align: right;\">\n",
       "      <th></th>\n",
       "      <th>#</th>\n",
       "      <th>Zip Code</th>\n",
       "      <th>Location</th>\n",
       "      <th>City</th>\n",
       "      <th>Population</th>\n",
       "      <th>% In Manufacturing</th>\n",
       "      <th>National Rank</th>\n",
       "    </tr>\n",
       "  </thead>\n",
       "  <tbody>\n",
       "    <tr>\n",
       "      <th>0</th>\n",
       "      <td>1</td>\n",
       "      <td>60623</td>\n",
       "      <td>41.847079, -87.719446</td>\n",
       "      <td>Chicago, Illinois</td>\n",
       "      <td>108144</td>\n",
       "      <td>28.02</td>\n",
       "      <td>#3,570</td>\n",
       "    </tr>\n",
       "    <tr>\n",
       "      <th>1</th>\n",
       "      <td>2</td>\n",
       "      <td>60632</td>\n",
       "      <td>41.810213, -87.711761</td>\n",
       "      <td>Chicago, Illinois</td>\n",
       "      <td>87577</td>\n",
       "      <td>26.95</td>\n",
       "      <td>#4,104</td>\n",
       "    </tr>\n",
       "    <tr>\n",
       "      <th>2</th>\n",
       "      <td>3</td>\n",
       "      <td>60639</td>\n",
       "      <td>41.920639, -87.755793</td>\n",
       "      <td>Chicago, Illinois</td>\n",
       "      <td>92951</td>\n",
       "      <td>26.82</td>\n",
       "      <td>#4,181</td>\n",
       "    </tr>\n",
       "    <tr>\n",
       "      <th>3</th>\n",
       "      <td>4</td>\n",
       "      <td>60608</td>\n",
       "      <td>41.848647, -87.672320</td>\n",
       "      <td>Chicago, Illinois</td>\n",
       "      <td>92472</td>\n",
       "      <td>23.48</td>\n",
       "      <td>#6,274</td>\n",
       "    </tr>\n",
       "    <tr>\n",
       "      <th>4</th>\n",
       "      <td>5</td>\n",
       "      <td>60609</td>\n",
       "      <td>41.812680, -87.656935</td>\n",
       "      <td>Chicago, Illinois</td>\n",
       "      <td>79469</td>\n",
       "      <td>21.14</td>\n",
       "      <td>#8,123</td>\n",
       "    </tr>\n",
       "  </tbody>\n",
       "</table>\n",
       "</div>"
      ],
      "text/plain": [
       "   #  Zip Code               Location               City  Population  \\\n",
       "0  1     60623  41.847079, -87.719446  Chicago, Illinois      108144   \n",
       "1  2     60632  41.810213, -87.711761  Chicago, Illinois       87577   \n",
       "2  3     60639  41.920639, -87.755793  Chicago, Illinois       92951   \n",
       "3  4     60608  41.848647, -87.672320  Chicago, Illinois       92472   \n",
       "4  5     60609  41.812680, -87.656935  Chicago, Illinois       79469   \n",
       "\n",
       "   % In Manufacturing National Rank  \n",
       "0               28.02        #3,570  \n",
       "1               26.95        #4,104  \n",
       "2               26.82        #4,181  \n",
       "3               23.48        #6,274  \n",
       "4               21.14        #8,123  "
      ]
     },
     "execution_count": 212,
     "metadata": {},
     "output_type": "execute_result"
    }
   ],
   "source": [
    "chi_manufacturing['% In Manufacturing'] = chi_manufacturing['% In Manufacturing']*100\n",
    "\n",
    "chi_manufacturing.head()"
   ]
  },
  {
   "cell_type": "code",
   "execution_count": 214,
   "metadata": {
    "scrolled": true
   },
   "outputs": [
    {
     "data": {
      "text/html": [
       "<div>\n",
       "<style scoped>\n",
       "    .dataframe tbody tr th:only-of-type {\n",
       "        vertical-align: middle;\n",
       "    }\n",
       "\n",
       "    .dataframe tbody tr th {\n",
       "        vertical-align: top;\n",
       "    }\n",
       "\n",
       "    .dataframe thead th {\n",
       "        text-align: right;\n",
       "    }\n",
       "</style>\n",
       "<table border=\"1\" class=\"dataframe\">\n",
       "  <thead>\n",
       "    <tr style=\"text-align: right;\">\n",
       "      <th></th>\n",
       "      <th>#</th>\n",
       "      <th>Zip Code</th>\n",
       "      <th>Location</th>\n",
       "      <th>City</th>\n",
       "      <th>Population</th>\n",
       "      <th>% In Manufacturing</th>\n",
       "      <th>National Rank</th>\n",
       "    </tr>\n",
       "  </thead>\n",
       "  <tbody>\n",
       "    <tr>\n",
       "      <th>37</th>\n",
       "      <td>38</td>\n",
       "      <td>60601</td>\n",
       "      <td>41.885805, -87.622911</td>\n",
       "      <td>Chicago, Illinois</td>\n",
       "      <td>5591</td>\n",
       "      <td>6.61</td>\n",
       "      <td>#25,271</td>\n",
       "    </tr>\n",
       "    <tr>\n",
       "      <th>42</th>\n",
       "      <td>43</td>\n",
       "      <td>60611</td>\n",
       "      <td>41.893024, -87.618998</td>\n",
       "      <td>Chicago, Illinois</td>\n",
       "      <td>26522</td>\n",
       "      <td>6.00</td>\n",
       "      <td>#26,022</td>\n",
       "    </tr>\n",
       "    <tr>\n",
       "      <th>44</th>\n",
       "      <td>45</td>\n",
       "      <td>60614</td>\n",
       "      <td>41.922667, -87.652537</td>\n",
       "      <td>Chicago, Illinois</td>\n",
       "      <td>65474</td>\n",
       "      <td>5.74</td>\n",
       "      <td>#26,338</td>\n",
       "    </tr>\n",
       "    <tr>\n",
       "      <th>47</th>\n",
       "      <td>48</td>\n",
       "      <td>60606</td>\n",
       "      <td>41.881988, -87.637329</td>\n",
       "      <td>Chicago, Illinois</td>\n",
       "      <td>1682</td>\n",
       "      <td>5.31</td>\n",
       "      <td>#26,801</td>\n",
       "    </tr>\n",
       "    <tr>\n",
       "      <th>52</th>\n",
       "      <td>53</td>\n",
       "      <td>60603</td>\n",
       "      <td>41.880614, -87.629311</td>\n",
       "      <td>Chicago, Illinois</td>\n",
       "      <td>378</td>\n",
       "      <td>0.00</td>\n",
       "      <td>#31,444</td>\n",
       "    </tr>\n",
       "  </tbody>\n",
       "</table>\n",
       "</div>"
      ],
      "text/plain": [
       "     #  Zip Code               Location               City  Population  \\\n",
       "37  38     60601  41.885805, -87.622911  Chicago, Illinois        5591   \n",
       "42  43     60611  41.893024, -87.618998  Chicago, Illinois       26522   \n",
       "44  45     60614  41.922667, -87.652537  Chicago, Illinois       65474   \n",
       "47  48     60606  41.881988, -87.637329  Chicago, Illinois        1682   \n",
       "52  53     60603  41.880614, -87.629311  Chicago, Illinois         378   \n",
       "\n",
       "    % In Manufacturing National Rank  \n",
       "37                6.61       #25,271  \n",
       "42                6.00       #26,022  \n",
       "44                5.74       #26,338  \n",
       "47                5.31       #26,801  \n",
       "52                0.00       #31,444  "
      ]
     },
     "execution_count": 214,
     "metadata": {},
     "output_type": "execute_result"
    }
   ],
   "source": [
    "#Now looking at the percent for the most affluent zip codes\n",
    "richest_percent_manufacturing = chi_manufacturing[chi_manufacturing['Zip Code'].isin(chi_zips_richest)]\n",
    "richest_percent_manufacturing"
   ]
  },
  {
   "cell_type": "markdown",
   "metadata": {},
   "source": [
    "The two most affluent zip codes are 60606 and 60601, so I want to look at those two percentages specifically to see if there is as much of a gap in that proportion as there is in income."
   ]
  },
  {
   "cell_type": "code",
   "execution_count": 218,
   "metadata": {},
   "outputs": [
    {
     "data": {
      "text/html": [
       "<div>\n",
       "<style scoped>\n",
       "    .dataframe tbody tr th:only-of-type {\n",
       "        vertical-align: middle;\n",
       "    }\n",
       "\n",
       "    .dataframe tbody tr th {\n",
       "        vertical-align: top;\n",
       "    }\n",
       "\n",
       "    .dataframe thead th {\n",
       "        text-align: right;\n",
       "    }\n",
       "</style>\n",
       "<table border=\"1\" class=\"dataframe\">\n",
       "  <thead>\n",
       "    <tr style=\"text-align: right;\">\n",
       "      <th></th>\n",
       "      <th>#</th>\n",
       "      <th>Zip Code</th>\n",
       "      <th>Location</th>\n",
       "      <th>City</th>\n",
       "      <th>Population</th>\n",
       "      <th>% In Manufacturing</th>\n",
       "      <th>National Rank</th>\n",
       "    </tr>\n",
       "  </thead>\n",
       "  <tbody>\n",
       "    <tr>\n",
       "      <th>47</th>\n",
       "      <td>48</td>\n",
       "      <td>60606</td>\n",
       "      <td>41.881988, -87.637329</td>\n",
       "      <td>Chicago, Illinois</td>\n",
       "      <td>1682</td>\n",
       "      <td>5.31</td>\n",
       "      <td>#26,801</td>\n",
       "    </tr>\n",
       "    <tr>\n",
       "      <th>37</th>\n",
       "      <td>38</td>\n",
       "      <td>60601</td>\n",
       "      <td>41.885805, -87.622911</td>\n",
       "      <td>Chicago, Illinois</td>\n",
       "      <td>5591</td>\n",
       "      <td>6.61</td>\n",
       "      <td>#25,271</td>\n",
       "    </tr>\n",
       "  </tbody>\n",
       "</table>\n",
       "</div>"
      ],
      "text/plain": [
       "     #  Zip Code               Location               City  Population  \\\n",
       "47  48     60606  41.881988, -87.637329  Chicago, Illinois        1682   \n",
       "37  38     60601  41.885805, -87.622911  Chicago, Illinois        5591   \n",
       "\n",
       "    % In Manufacturing National Rank  \n",
       "47                5.31       #26,801  \n",
       "37                6.61       #25,271  "
      ]
     },
     "execution_count": 218,
     "metadata": {},
     "output_type": "execute_result"
    }
   ],
   "source": [
    "richest_percent_manufacturing.loc[[47,37]]"
   ]
  },
  {
   "cell_type": "markdown",
   "metadata": {},
   "source": [
    "`60606` is the most affluent zip code, and it has the least percent of its population employed in manufacturing. It has more than a percent less than the second most affluent. There is definitely a gap there, maybe not a large one, but there is a gap."
   ]
  },
  {
   "cell_type": "markdown",
   "metadata": {},
   "source": [
    "## Block 5\n",
    "Are there more police stations or grocery stores in the 5 poorest and richest zip codes?"
   ]
  },
  {
   "cell_type": "code",
   "execution_count": 219,
   "metadata": {},
   "outputs": [
    {
     "data": {
      "text/html": [
       "<div>\n",
       "<style scoped>\n",
       "    .dataframe tbody tr th:only-of-type {\n",
       "        vertical-align: middle;\n",
       "    }\n",
       "\n",
       "    .dataframe tbody tr th {\n",
       "        vertical-align: top;\n",
       "    }\n",
       "\n",
       "    .dataframe thead th {\n",
       "        text-align: right;\n",
       "    }\n",
       "</style>\n",
       "<table border=\"1\" class=\"dataframe\">\n",
       "  <thead>\n",
       "    <tr style=\"text-align: right;\">\n",
       "      <th></th>\n",
       "      <th>DISTRICT</th>\n",
       "      <th>DISTRICT NAME</th>\n",
       "      <th>ADDRESS</th>\n",
       "      <th>CITY</th>\n",
       "      <th>STATE</th>\n",
       "      <th>ZIP</th>\n",
       "      <th>WEBSITE</th>\n",
       "      <th>PHONE</th>\n",
       "      <th>FAX</th>\n",
       "      <th>TTY</th>\n",
       "      <th>X COORDINATE</th>\n",
       "      <th>Y COORDINATE</th>\n",
       "      <th>LATITUDE</th>\n",
       "      <th>LONGITUDE</th>\n",
       "      <th>LOCATION</th>\n",
       "    </tr>\n",
       "  </thead>\n",
       "  <tbody>\n",
       "    <tr>\n",
       "      <th>0</th>\n",
       "      <td>1</td>\n",
       "      <td>Central</td>\n",
       "      <td>1718 S State St</td>\n",
       "      <td>Chicago</td>\n",
       "      <td>IL</td>\n",
       "      <td>60616</td>\n",
       "      <td>http://home.chicagopolice.org/community/distri...</td>\n",
       "      <td>312-745-4290</td>\n",
       "      <td>312-745-3694</td>\n",
       "      <td>312-745-3693</td>\n",
       "      <td>1176569.052</td>\n",
       "      <td>1891771.704</td>\n",
       "      <td>41.858373</td>\n",
       "      <td>-87.627356</td>\n",
       "      <td>(41.8583725929, -87.627356171)</td>\n",
       "    </tr>\n",
       "    <tr>\n",
       "      <th>1</th>\n",
       "      <td>6</td>\n",
       "      <td>Gresham</td>\n",
       "      <td>7808 S Halsted St</td>\n",
       "      <td>Chicago</td>\n",
       "      <td>IL</td>\n",
       "      <td>60620</td>\n",
       "      <td>http://home.chicagopolice.org/community/distri...</td>\n",
       "      <td>312-745-3617</td>\n",
       "      <td>312-745-3649</td>\n",
       "      <td>312-745-3639</td>\n",
       "      <td>1172283.013</td>\n",
       "      <td>1853022.646</td>\n",
       "      <td>41.752137</td>\n",
       "      <td>-87.644229</td>\n",
       "      <td>(41.7521368378, -87.6442289066)</td>\n",
       "    </tr>\n",
       "    <tr>\n",
       "      <th>2</th>\n",
       "      <td>11</td>\n",
       "      <td>Harrison</td>\n",
       "      <td>3151 W Harrison St</td>\n",
       "      <td>Chicago</td>\n",
       "      <td>IL</td>\n",
       "      <td>60612</td>\n",
       "      <td>http://home.chicagopolice.org/community/distri...</td>\n",
       "      <td>312-746-8386</td>\n",
       "      <td>312-746-4281</td>\n",
       "      <td>312-746-5151</td>\n",
       "      <td>1155244.069</td>\n",
       "      <td>1897148.755</td>\n",
       "      <td>41.873582</td>\n",
       "      <td>-87.705488</td>\n",
       "      <td>(41.8735822883, -87.705488126)</td>\n",
       "    </tr>\n",
       "    <tr>\n",
       "      <th>3</th>\n",
       "      <td>16</td>\n",
       "      <td>Jefferson Park</td>\n",
       "      <td>5151 N Milwaukee Ave</td>\n",
       "      <td>Chicago</td>\n",
       "      <td>IL</td>\n",
       "      <td>60630</td>\n",
       "      <td>http://home.chicagopolice.org/community/distri...</td>\n",
       "      <td>312-742-4480</td>\n",
       "      <td>312-742-4421</td>\n",
       "      <td>312-742-4423</td>\n",
       "      <td>1138480.758</td>\n",
       "      <td>1933660.473</td>\n",
       "      <td>41.974094</td>\n",
       "      <td>-87.766149</td>\n",
       "      <td>(41.9740944511, -87.7661488432)</td>\n",
       "    </tr>\n",
       "    <tr>\n",
       "      <th>4</th>\n",
       "      <td>Headquarters</td>\n",
       "      <td>Headquarters</td>\n",
       "      <td>3510 S Michigan Ave</td>\n",
       "      <td>Chicago</td>\n",
       "      <td>IL</td>\n",
       "      <td>60653</td>\n",
       "      <td>http://home.chicagopolice.org</td>\n",
       "      <td>NaN</td>\n",
       "      <td>NaN</td>\n",
       "      <td>NaN</td>\n",
       "      <td>1177731.401</td>\n",
       "      <td>1881697.404</td>\n",
       "      <td>41.830702</td>\n",
       "      <td>-87.623395</td>\n",
       "      <td>(41.8307016873, -87.6233953459)</td>\n",
       "    </tr>\n",
       "  </tbody>\n",
       "</table>\n",
       "</div>"
      ],
      "text/plain": [
       "       DISTRICT   DISTRICT NAME               ADDRESS     CITY STATE    ZIP  \\\n",
       "0             1         Central       1718 S State St  Chicago    IL  60616   \n",
       "1             6         Gresham     7808 S Halsted St  Chicago    IL  60620   \n",
       "2            11        Harrison    3151 W Harrison St  Chicago    IL  60612   \n",
       "3            16  Jefferson Park  5151 N Milwaukee Ave  Chicago    IL  60630   \n",
       "4  Headquarters    Headquarters   3510 S Michigan Ave  Chicago    IL  60653   \n",
       "\n",
       "                                             WEBSITE         PHONE  \\\n",
       "0  http://home.chicagopolice.org/community/distri...  312-745-4290   \n",
       "1  http://home.chicagopolice.org/community/distri...  312-745-3617   \n",
       "2  http://home.chicagopolice.org/community/distri...  312-746-8386   \n",
       "3  http://home.chicagopolice.org/community/distri...  312-742-4480   \n",
       "4                      http://home.chicagopolice.org           NaN   \n",
       "\n",
       "            FAX           TTY  X COORDINATE  Y COORDINATE   LATITUDE  \\\n",
       "0  312-745-3694  312-745-3693   1176569.052   1891771.704  41.858373   \n",
       "1  312-745-3649  312-745-3639   1172283.013   1853022.646  41.752137   \n",
       "2  312-746-4281  312-746-5151   1155244.069   1897148.755  41.873582   \n",
       "3  312-742-4421  312-742-4423   1138480.758   1933660.473  41.974094   \n",
       "4           NaN           NaN   1177731.401   1881697.404  41.830702   \n",
       "\n",
       "   LONGITUDE                         LOCATION  \n",
       "0 -87.627356   (41.8583725929, -87.627356171)  \n",
       "1 -87.644229  (41.7521368378, -87.6442289066)  \n",
       "2 -87.705488   (41.8735822883, -87.705488126)  \n",
       "3 -87.766149  (41.9740944511, -87.7661488432)  \n",
       "4 -87.623395  (41.8307016873, -87.6233953459)  "
      ]
     },
     "execution_count": 219,
     "metadata": {},
     "output_type": "execute_result"
    }
   ],
   "source": [
    "#load in new data\n",
    "chipolice = pd.read_csv('../data/chipolice.csv')\n",
    "chipolice.head()"
   ]
  },
  {
   "cell_type": "code",
   "execution_count": 223,
   "metadata": {},
   "outputs": [
    {
     "data": {
      "text/plain": [
       "23"
      ]
     },
     "execution_count": 223,
     "metadata": {},
     "output_type": "execute_result"
    }
   ],
   "source": [
    "len(chipolice)"
   ]
  },
  {
   "cell_type": "code",
   "execution_count": 220,
   "metadata": {},
   "outputs": [],
   "source": [
    "poor_cops = chipolice[chipolice['ZIP'].isin(chi_zips_not_richest)]\n",
    "rich_cops = chipolice[chipolice['ZIP'].isin(chi_zips_richest)]"
   ]
  },
  {
   "cell_type": "code",
   "execution_count": 221,
   "metadata": {},
   "outputs": [
    {
     "data": {
      "text/html": [
       "<div>\n",
       "<style scoped>\n",
       "    .dataframe tbody tr th:only-of-type {\n",
       "        vertical-align: middle;\n",
       "    }\n",
       "\n",
       "    .dataframe tbody tr th {\n",
       "        vertical-align: top;\n",
       "    }\n",
       "\n",
       "    .dataframe thead th {\n",
       "        text-align: right;\n",
       "    }\n",
       "</style>\n",
       "<table border=\"1\" class=\"dataframe\">\n",
       "  <thead>\n",
       "    <tr style=\"text-align: right;\">\n",
       "      <th></th>\n",
       "      <th>DISTRICT</th>\n",
       "      <th>DISTRICT NAME</th>\n",
       "      <th>ADDRESS</th>\n",
       "      <th>CITY</th>\n",
       "      <th>STATE</th>\n",
       "      <th>ZIP</th>\n",
       "      <th>WEBSITE</th>\n",
       "      <th>PHONE</th>\n",
       "      <th>FAX</th>\n",
       "      <th>TTY</th>\n",
       "      <th>X COORDINATE</th>\n",
       "      <th>Y COORDINATE</th>\n",
       "      <th>LATITUDE</th>\n",
       "      <th>LONGITUDE</th>\n",
       "      <th>LOCATION</th>\n",
       "    </tr>\n",
       "  </thead>\n",
       "  <tbody>\n",
       "    <tr>\n",
       "      <th>4</th>\n",
       "      <td>Headquarters</td>\n",
       "      <td>Headquarters</td>\n",
       "      <td>3510 S Michigan Ave</td>\n",
       "      <td>Chicago</td>\n",
       "      <td>IL</td>\n",
       "      <td>60653</td>\n",
       "      <td>http://home.chicagopolice.org</td>\n",
       "      <td>NaN</td>\n",
       "      <td>NaN</td>\n",
       "      <td>NaN</td>\n",
       "      <td>1177731.401</td>\n",
       "      <td>1881697.404</td>\n",
       "      <td>41.830702</td>\n",
       "      <td>-87.623395</td>\n",
       "      <td>(41.8307016873, -87.6233953459)</td>\n",
       "    </tr>\n",
       "    <tr>\n",
       "      <th>11</th>\n",
       "      <td>3</td>\n",
       "      <td>Grand Crossing</td>\n",
       "      <td>7040 S Cottage Grove Ave</td>\n",
       "      <td>Chicago</td>\n",
       "      <td>IL</td>\n",
       "      <td>60637</td>\n",
       "      <td>http://home.chicagopolice.org/community/distri...</td>\n",
       "      <td>312-747-8201</td>\n",
       "      <td>312-747-5479</td>\n",
       "      <td>312-747-9168</td>\n",
       "      <td>1182739.183</td>\n",
       "      <td>1858317.732</td>\n",
       "      <td>41.766431</td>\n",
       "      <td>-87.605748</td>\n",
       "      <td>(41.7664308925, -87.6057478606)</td>\n",
       "    </tr>\n",
       "  </tbody>\n",
       "</table>\n",
       "</div>"
      ],
      "text/plain": [
       "        DISTRICT   DISTRICT NAME                   ADDRESS     CITY STATE  \\\n",
       "4   Headquarters    Headquarters       3510 S Michigan Ave  Chicago    IL   \n",
       "11             3  Grand Crossing  7040 S Cottage Grove Ave  Chicago    IL   \n",
       "\n",
       "      ZIP                                            WEBSITE         PHONE  \\\n",
       "4   60653                      http://home.chicagopolice.org           NaN   \n",
       "11  60637  http://home.chicagopolice.org/community/distri...  312-747-8201   \n",
       "\n",
       "             FAX           TTY  X COORDINATE  Y COORDINATE   LATITUDE  \\\n",
       "4            NaN           NaN   1177731.401   1881697.404  41.830702   \n",
       "11  312-747-5479  312-747-9168   1182739.183   1858317.732  41.766431   \n",
       "\n",
       "    LONGITUDE                         LOCATION  \n",
       "4  -87.623395  (41.8307016873, -87.6233953459)  \n",
       "11 -87.605748  (41.7664308925, -87.6057478606)  "
      ]
     },
     "execution_count": 221,
     "metadata": {},
     "output_type": "execute_result"
    }
   ],
   "source": [
    "poor_cops"
   ]
  },
  {
   "cell_type": "code",
   "execution_count": 252,
   "metadata": {
    "scrolled": false
   },
   "outputs": [
    {
     "data": {
      "text/html": [
       "<div>\n",
       "<style scoped>\n",
       "    .dataframe tbody tr th:only-of-type {\n",
       "        vertical-align: middle;\n",
       "    }\n",
       "\n",
       "    .dataframe tbody tr th {\n",
       "        vertical-align: top;\n",
       "    }\n",
       "\n",
       "    .dataframe thead th {\n",
       "        text-align: right;\n",
       "    }\n",
       "</style>\n",
       "<table border=\"1\" class=\"dataframe\">\n",
       "  <thead>\n",
       "    <tr style=\"text-align: right;\">\n",
       "      <th></th>\n",
       "      <th>DISTRICT</th>\n",
       "      <th>DISTRICT NAME</th>\n",
       "      <th>ADDRESS</th>\n",
       "      <th>CITY</th>\n",
       "      <th>STATE</th>\n",
       "      <th>ZIP</th>\n",
       "      <th>WEBSITE</th>\n",
       "      <th>PHONE</th>\n",
       "      <th>FAX</th>\n",
       "      <th>TTY</th>\n",
       "      <th>X COORDINATE</th>\n",
       "      <th>Y COORDINATE</th>\n",
       "      <th>LATITUDE</th>\n",
       "      <th>LONGITUDE</th>\n",
       "      <th>LOCATION</th>\n",
       "    </tr>\n",
       "  </thead>\n",
       "  <tbody>\n",
       "  </tbody>\n",
       "</table>\n",
       "</div>"
      ],
      "text/plain": [
       "Empty DataFrame\n",
       "Columns: [DISTRICT, DISTRICT NAME, ADDRESS, CITY, STATE, ZIP, WEBSITE, PHONE, FAX, TTY, X COORDINATE, Y COORDINATE, LATITUDE, LONGITUDE, LOCATION]\n",
       "Index: []"
      ]
     },
     "execution_count": 252,
     "metadata": {},
     "output_type": "execute_result"
    }
   ],
   "source": [
    "rich_cops"
   ]
  },
  {
   "cell_type": "markdown",
   "metadata": {},
   "source": [
    "Difference in policing could be something to look into"
   ]
  },
  {
   "cell_type": "markdown",
   "metadata": {},
   "source": [
    "# FB\n",
    "\n",
    "* This is a good idea and a nice question to pose and look into. It seems that with only 23 police stations that you can't really find a pattern but you could build on this idea and look at other resources."
   ]
  },
  {
   "cell_type": "code",
   "execution_count": null,
   "metadata": {},
   "outputs": [],
   "source": []
  },
  {
   "cell_type": "code",
   "execution_count": null,
   "metadata": {},
   "outputs": [],
   "source": []
  },
  {
   "cell_type": "code",
   "execution_count": null,
   "metadata": {},
   "outputs": [],
   "source": [
    "#unfinished analysis below"
   ]
  },
  {
   "cell_type": "markdown",
   "metadata": {},
   "source": [
    "\n",
    "This data is for the entire state of New York, so I have to narrow down to NYC using counties."
   ]
  },
  {
   "cell_type": "code",
   "execution_count": 164,
   "metadata": {},
   "outputs": [
    {
     "data": {
      "text/html": [
       "<div>\n",
       "<style scoped>\n",
       "    .dataframe tbody tr th:only-of-type {\n",
       "        vertical-align: middle;\n",
       "    }\n",
       "\n",
       "    .dataframe tbody tr th {\n",
       "        vertical-align: top;\n",
       "    }\n",
       "\n",
       "    .dataframe thead th {\n",
       "        text-align: right;\n",
       "    }\n",
       "</style>\n",
       "<table border=\"1\" class=\"dataframe\">\n",
       "  <thead>\n",
       "    <tr style=\"text-align: right;\">\n",
       "      <th></th>\n",
       "      <th>County</th>\n",
       "      <th>License Number</th>\n",
       "      <th>Operation Type</th>\n",
       "      <th>Establishment Type</th>\n",
       "      <th>Entity Name</th>\n",
       "      <th>DBA Name</th>\n",
       "      <th>Street Number</th>\n",
       "      <th>Street Name</th>\n",
       "      <th>Address Line 2</th>\n",
       "      <th>Address Line 3</th>\n",
       "      <th>City</th>\n",
       "      <th>State</th>\n",
       "      <th>Zip Code</th>\n",
       "      <th>Square Footage</th>\n",
       "      <th>Location</th>\n",
       "    </tr>\n",
       "  </thead>\n",
       "  <tbody>\n",
       "    <tr>\n",
       "      <th>17</th>\n",
       "      <td>Bronx</td>\n",
       "      <td>601880</td>\n",
       "      <td>Store</td>\n",
       "      <td>JADX</td>\n",
       "      <td>ROBT T COCHRAN&amp;CO INC</td>\n",
       "      <td>ROBT T COCHRAN&amp;CO</td>\n",
       "      <td>NaN</td>\n",
       "      <td>UNT 408-412 NYC TERMINAL MKT</td>\n",
       "      <td></td>\n",
       "      <td></td>\n",
       "      <td>BRONX</td>\n",
       "      <td>NY</td>\n",
       "      <td>10474</td>\n",
       "      <td>0</td>\n",
       "      <td>NaN</td>\n",
       "    </tr>\n",
       "    <tr>\n",
       "      <th>18</th>\n",
       "      <td>Kings</td>\n",
       "      <td>610706</td>\n",
       "      <td>Store</td>\n",
       "      <td>A</td>\n",
       "      <td>WILKLOW FRED</td>\n",
       "      <td>WILKLOW ORCHARD</td>\n",
       "      <td>NaN</td>\n",
       "      <td>COURT ST BKLYN BOROUGH HALL</td>\n",
       "      <td></td>\n",
       "      <td></td>\n",
       "      <td>BROOKLYN</td>\n",
       "      <td>NY</td>\n",
       "      <td>11201</td>\n",
       "      <td>200</td>\n",
       "      <td>NaN</td>\n",
       "    </tr>\n",
       "    <tr>\n",
       "      <th>19</th>\n",
       "      <td>New York</td>\n",
       "      <td>624199</td>\n",
       "      <td>Store</td>\n",
       "      <td>A</td>\n",
       "      <td>MESSERICH ALICE H</td>\n",
       "      <td>KNOLL KREST FARM</td>\n",
       "      <td>NaN</td>\n",
       "      <td>GREEN MARKET UNION SQUARE</td>\n",
       "      <td></td>\n",
       "      <td></td>\n",
       "      <td>NEW YORK</td>\n",
       "      <td>NY</td>\n",
       "      <td>10003</td>\n",
       "      <td>50</td>\n",
       "      <td>NaN</td>\n",
       "    </tr>\n",
       "    <tr>\n",
       "      <th>20</th>\n",
       "      <td>Queens</td>\n",
       "      <td>732805</td>\n",
       "      <td>Store</td>\n",
       "      <td>JAC</td>\n",
       "      <td>MYMUN DELI AND GROCERY CORP</td>\n",
       "      <td>MYMUN DELI AND GROCERY</td>\n",
       "      <td>163-02</td>\n",
       "      <td>HILLSIDE AVE</td>\n",
       "      <td></td>\n",
       "      <td></td>\n",
       "      <td>JAMAICA</td>\n",
       "      <td>NY</td>\n",
       "      <td>11432</td>\n",
       "      <td>0</td>\n",
       "      <td>163 02 HILLSIDE AVE\\nJAMAICA, NY 11432</td>\n",
       "    </tr>\n",
       "    <tr>\n",
       "      <th>21</th>\n",
       "      <td>Queens</td>\n",
       "      <td>724999</td>\n",
       "      <td>Store</td>\n",
       "      <td>A</td>\n",
       "      <td>TMW GROUP INC</td>\n",
       "      <td>TMW GROUP</td>\n",
       "      <td>83-20</td>\n",
       "      <td>BROADWAY</td>\n",
       "      <td></td>\n",
       "      <td></td>\n",
       "      <td>ELMHURST</td>\n",
       "      <td>NY</td>\n",
       "      <td>11373</td>\n",
       "      <td>0</td>\n",
       "      <td>83 20\\nELMHURST, NY 11373</td>\n",
       "    </tr>\n",
       "  </tbody>\n",
       "</table>\n",
       "</div>"
      ],
      "text/plain": [
       "      County  License Number Operation Type Establishment Type  \\\n",
       "17     Bronx          601880          Store             JADX     \n",
       "18     Kings          610706          Store             A        \n",
       "19  New York          624199          Store             A        \n",
       "20    Queens          732805          Store             JAC      \n",
       "21    Queens          724999          Store             A        \n",
       "\n",
       "                          Entity Name                 DBA Name Street Number  \\\n",
       "17  ROBT T COCHRAN&CO INC              ROBT T COCHRAN&CO                 NaN   \n",
       "18  WILKLOW FRED                       WILKLOW ORCHARD                   NaN   \n",
       "19  MESSERICH ALICE H                  KNOLL KREST FARM                  NaN   \n",
       "20  MYMUN DELI AND GROCERY CORP        MYMUN DELI AND GROCERY         163-02   \n",
       "21  TMW GROUP INC                      TMW GROUP                       83-20   \n",
       "\n",
       "                          Street Name Address Line 2   Address Line 3  \\\n",
       "17  UNT 408-412 NYC TERMINAL MKT                                        \n",
       "18    COURT ST BKLYN BOROUGH HALL                                       \n",
       "19      GREEN MARKET UNION SQUARE                                       \n",
       "20         HILLSIDE AVE                                                 \n",
       "21        BROADWAY                                                      \n",
       "\n",
       "                  City State  Zip Code  Square Footage  \\\n",
       "17  BRONX                 NY     10474               0   \n",
       "18  BROOKLYN              NY     11201             200   \n",
       "19  NEW YORK              NY     10003              50   \n",
       "20  JAMAICA               NY     11432               0   \n",
       "21  ELMHURST              NY     11373               0   \n",
       "\n",
       "                                  Location  \n",
       "17                                     NaN  \n",
       "18                                     NaN  \n",
       "19                                     NaN  \n",
       "20  163 02 HILLSIDE AVE\\nJAMAICA, NY 11432  \n",
       "21               83 20\\nELMHURST, NY 11373  "
      ]
     },
     "execution_count": 164,
     "metadata": {},
     "output_type": "execute_result"
    }
   ],
   "source": [
    "nycounties = ['Bronx','Kings','New York','Queens','Richmond']\n",
    "nyc_grocery = ny_grocery[ny_grocery['County'].isin(nycounties)]\n",
    "nyc_grocery.head()"
   ]
  },
  {
   "cell_type": "markdown",
   "metadata": {},
   "source": [
    "I am also going to load in the healthy grocery stores dataset."
   ]
  },
  {
   "cell_type": "code",
   "execution_count": 165,
   "metadata": {},
   "outputs": [
    {
     "data": {
      "text/html": [
       "<div>\n",
       "<style scoped>\n",
       "    .dataframe tbody tr th:only-of-type {\n",
       "        vertical-align: middle;\n",
       "    }\n",
       "\n",
       "    .dataframe tbody tr th {\n",
       "        vertical-align: top;\n",
       "    }\n",
       "\n",
       "    .dataframe thead th {\n",
       "        text-align: right;\n",
       "    }\n",
       "</style>\n",
       "<table border=\"1\" class=\"dataframe\">\n",
       "  <thead>\n",
       "    <tr style=\"text-align: right;\">\n",
       "      <th></th>\n",
       "      <th>Store Name</th>\n",
       "      <th>Street Address</th>\n",
       "      <th>Address</th>\n",
       "      <th>Borough</th>\n",
       "      <th>Zip \\nCode</th>\n",
       "      <th>Year Awarded</th>\n",
       "      <th>Program \\nWave</th>\n",
       "      <th>Latitude</th>\n",
       "      <th>Longitude</th>\n",
       "      <th>Community Board</th>\n",
       "      <th>Council District</th>\n",
       "      <th>Census Tract</th>\n",
       "      <th>BIN</th>\n",
       "      <th>BBL</th>\n",
       "      <th>NTA</th>\n",
       "    </tr>\n",
       "  </thead>\n",
       "  <tbody>\n",
       "    <tr>\n",
       "      <th>0</th>\n",
       "      <td>Rivas Deli Grocery</td>\n",
       "      <td>651</td>\n",
       "      <td>East 183rd Street</td>\n",
       "      <td>Bronx</td>\n",
       "      <td>10458</td>\n",
       "      <td>2013</td>\n",
       "      <td>1</td>\n",
       "      <td>40.852568</td>\n",
       "      <td>-73.887484</td>\n",
       "      <td>6.0</td>\n",
       "      <td>15.0</td>\n",
       "      <td>391.0</td>\n",
       "      <td>2012464.0</td>\n",
       "      <td>2.030870e+09</td>\n",
       "      <td>Belmont</td>\n",
       "    </tr>\n",
       "    <tr>\n",
       "      <th>1</th>\n",
       "      <td>C-Town</td>\n",
       "      <td>1761</td>\n",
       "      <td>Southern Boulevard</td>\n",
       "      <td>Bronx</td>\n",
       "      <td>10460</td>\n",
       "      <td>2013</td>\n",
       "      <td>1</td>\n",
       "      <td>40.837267</td>\n",
       "      <td>-73.888016</td>\n",
       "      <td>3.0</td>\n",
       "      <td>17.0</td>\n",
       "      <td>155.0</td>\n",
       "      <td>2009878.0</td>\n",
       "      <td>2.029400e+09</td>\n",
       "      <td>Crotona Park East</td>\n",
       "    </tr>\n",
       "    <tr>\n",
       "      <th>2</th>\n",
       "      <td>La India Mini Market</td>\n",
       "      <td>1942</td>\n",
       "      <td>Marmion Avenue</td>\n",
       "      <td>Bronx</td>\n",
       "      <td>10460</td>\n",
       "      <td>2013</td>\n",
       "      <td>1</td>\n",
       "      <td>40.842942</td>\n",
       "      <td>-73.887136</td>\n",
       "      <td>6.0</td>\n",
       "      <td>17.0</td>\n",
       "      <td>36502.0</td>\n",
       "      <td>2010156.0</td>\n",
       "      <td>2.029600e+09</td>\n",
       "      <td>East Tremont</td>\n",
       "    </tr>\n",
       "    <tr>\n",
       "      <th>3</th>\n",
       "      <td>Los Hermanos</td>\n",
       "      <td>2019</td>\n",
       "      <td>Vyse Avenue</td>\n",
       "      <td>Bronx</td>\n",
       "      <td>10460</td>\n",
       "      <td>2013</td>\n",
       "      <td>1</td>\n",
       "      <td>40.842391</td>\n",
       "      <td>-73.881835</td>\n",
       "      <td>6.0</td>\n",
       "      <td>17.0</td>\n",
       "      <td>363.0</td>\n",
       "      <td>2013203.0</td>\n",
       "      <td>2.031270e+09</td>\n",
       "      <td>East Tremont</td>\n",
       "    </tr>\n",
       "    <tr>\n",
       "      <th>4</th>\n",
       "      <td>Price Choice Food Market</td>\n",
       "      <td>820</td>\n",
       "      <td>East 180th Street</td>\n",
       "      <td>Bronx</td>\n",
       "      <td>10460</td>\n",
       "      <td>2013</td>\n",
       "      <td>1</td>\n",
       "      <td>40.846173</td>\n",
       "      <td>-73.884871</td>\n",
       "      <td>6.0</td>\n",
       "      <td>15.0</td>\n",
       "      <td>36501.0</td>\n",
       "      <td>2012955.0</td>\n",
       "      <td>2.031080e+09</td>\n",
       "      <td>East Tremont</td>\n",
       "    </tr>\n",
       "  </tbody>\n",
       "</table>\n",
       "</div>"
      ],
      "text/plain": [
       "                 Store Name Street Address             Address Borough  \\\n",
       "0        Rivas Deli Grocery            651   East 183rd Street   Bronx   \n",
       "1                    C-Town           1761  Southern Boulevard   Bronx   \n",
       "2      La India Mini Market           1942      Marmion Avenue   Bronx   \n",
       "3              Los Hermanos           2019         Vyse Avenue   Bronx   \n",
       "4  Price Choice Food Market            820   East 180th Street   Bronx   \n",
       "\n",
       "   Zip \\nCode  Year Awarded  Program \\nWave   Latitude  Longitude  \\\n",
       "0       10458          2013               1  40.852568 -73.887484   \n",
       "1       10460          2013               1  40.837267 -73.888016   \n",
       "2       10460          2013               1  40.842942 -73.887136   \n",
       "3       10460          2013               1  40.842391 -73.881835   \n",
       "4       10460          2013               1  40.846173 -73.884871   \n",
       "\n",
       "   Community Board  Council District  Census Tract        BIN           BBL  \\\n",
       "0              6.0              15.0         391.0  2012464.0  2.030870e+09   \n",
       "1              3.0              17.0         155.0  2009878.0  2.029400e+09   \n",
       "2              6.0              17.0       36502.0  2010156.0  2.029600e+09   \n",
       "3              6.0              17.0         363.0  2013203.0  2.031270e+09   \n",
       "4              6.0              15.0       36501.0  2012955.0  2.031080e+09   \n",
       "\n",
       "                 NTA  \n",
       "0            Belmont  \n",
       "1  Crotona Park East  \n",
       "2       East Tremont  \n",
       "3       East Tremont  \n",
       "4       East Tremont  "
      ]
     },
     "execution_count": 165,
     "metadata": {},
     "output_type": "execute_result"
    }
   ],
   "source": [
    "nyc_healthy_grocery = pd.read_csv('../data/Recognized_Shop_Healthy_Stores_NYC.csv')\n",
    "nyc_healthy_grocery.head()"
   ]
  },
  {
   "cell_type": "code",
   "execution_count": 166,
   "metadata": {},
   "outputs": [],
   "source": [
    "lon = nyc_healthy_grocery['Longitude']\n",
    "lat = nyc_healthy_grocery['Latitude']\n",
    "\n",
    "geom=gpd.points_from_xy(lon,lat)\n",
    "\n",
    "nyc_healthy_grocery_gdf = gpd.GeoDataFrame(nyc_healthy_grocery, geometry=geom)"
   ]
  },
  {
   "cell_type": "code",
   "execution_count": 169,
   "metadata": {},
   "outputs": [
    {
     "data": {
      "text/plain": [
       "<matplotlib.axes._subplots.AxesSubplot at 0x7fb1262215c0>"
      ]
     },
     "execution_count": 169,
     "metadata": {},
     "output_type": "execute_result"
    },
    {
     "data": {
      "image/png": "[encoded data removed]",
      "text/plain": [
       "<Figure size 504x504 with 1 Axes>"
      ]
     },
     "metadata": {
      "needs_background": "light"
     },
     "output_type": "display_data"
    }
   ],
   "source": [
    "nyc_healthy_grocery_gdf.plot(figsize=(7,7))"
   ]
  },
  {
   "cell_type": "code",
   "execution_count": 171,
   "metadata": {},
   "outputs": [
    {
     "data": {
      "text/plain": [
       "<matplotlib.axes._subplots.AxesSubplot at 0x7fb1263a9fd0>"
      ]
     },
     "execution_count": 171,
     "metadata": {},
     "output_type": "execute_result"
    },
    {
     "data": {
      "image/png": "[encoded data removed]",
      "text/plain": [
       "<Figure size 432x288 with 1 Axes>"
      ]
     },
     "metadata": {
      "needs_background": "light"
     },
     "output_type": "display_data"
    }
   ],
   "source": [
    "boroughs_url = 'https://raw.githubusercontent.com/dwillis/nyc-maps/master/boroughs.geojson'\n",
    "boroughs_gdf = gpd.read_file(boroughs_url)\n",
    "\n",
    "boroughs_gdf.plot(color='white', edgecolor='gray')"
   ]
  },
  {
   "cell_type": "code",
   "execution_count": 172,
   "metadata": {},
   "outputs": [
    {
     "data": {
      "text/plain": [
       "<matplotlib.axes._subplots.AxesSubplot at 0x7fb125c56518>"
      ]
     },
     "execution_count": 172,
     "metadata": {},
     "output_type": "execute_result"
    },
    {
     "data": {
      "image/png": "[encoded data removed]",
      "text/plain": [
       "<Figure size 720x720 with 1 Axes>"
      ]
     },
     "metadata": {
      "needs_background": "light"
     },
     "output_type": "display_data"
    }
   ],
   "source": [
    "base=boroughs_gdf.plot(color='white', edgecolor='gray', figsize=(10,10))\n",
    "nyc_healthy_grocery_gdf.plot(ax=base, markersize=10)"
   ]
  },
  {
   "cell_type": "code",
   "execution_count": 174,
   "metadata": {},
   "outputs": [
    {
     "data": {
      "text/plain": [
       "11220    227\n",
       "11226    225\n",
       "11385    204\n",
       "11212    197\n",
       "11207    195\n",
       "        ... \n",
       "11697      1\n",
       "11001      1\n",
       "10278      1\n",
       "10174      1\n",
       "10285      1\n",
       "Name: Zip Code, Length: 190, dtype: int64"
      ]
     },
     "execution_count": 174,
     "metadata": {},
     "output_type": "execute_result"
    }
   ],
   "source": [
    "nyc_grocery_zip_dist = nyc_grocery['Zip Code'].value_counts()\n",
    "nyc_grocery_zip_dist"
   ]
  },
  {
   "cell_type": "code",
   "execution_count": 176,
   "metadata": {},
   "outputs": [
    {
     "data": {
      "text/plain": [
       "10029    56\n",
       "10457    52\n",
       "11212    50\n",
       "10453    30\n",
       "10458    23\n",
       "11206    22\n",
       "10459    22\n",
       "11208    21\n",
       "11207    19\n",
       "10460    18\n",
       "10456    13\n",
       "10035    12\n",
       "10030    12\n",
       "10037    10\n",
       "10455     7\n",
       "10474     1\n",
       "Name: Zip \\nCode, dtype: int64"
      ]
     },
     "execution_count": 176,
     "metadata": {},
     "output_type": "execute_result"
    }
   ],
   "source": [
    "nyc_healthy_grocery_zip_dist = nyc_healthy_grocery['Zip \\nCode'].value_counts()\n",
    "nyc_healthy_grocery_zip_dist"
   ]
  },
  {
   "cell_type": "markdown",
   "metadata": {},
   "source": [
    "There are much less zip codes for the healthy NYC dataset. As we saw from the map, these healthy grocery stores are concentrated in certain areas.\n",
    "\n",
    "\n",
    "I am going to do the same looking where I find the income by zip code in NYC and see if there are any associations between the areas with the most grocery stores and also the areas with the most \"healthy\" grocery stores\n",
    "\n",
    "The dataset that I have only includes Manhattan"
   ]
  },
  {
   "cell_type": "code",
   "execution_count": 177,
   "metadata": {},
   "outputs": [
    {
     "data": {
      "text/html": [
       "<div>\n",
       "<style scoped>\n",
       "    .dataframe tbody tr th:only-of-type {\n",
       "        vertical-align: middle;\n",
       "    }\n",
       "\n",
       "    .dataframe tbody tr th {\n",
       "        vertical-align: top;\n",
       "    }\n",
       "\n",
       "    .dataframe thead th {\n",
       "        text-align: right;\n",
       "    }\n",
       "</style>\n",
       "<table border=\"1\" class=\"dataframe\">\n",
       "  <thead>\n",
       "    <tr style=\"text-align: right;\">\n",
       "      <th></th>\n",
       "      <th>#</th>\n",
       "      <th>Zip Code</th>\n",
       "      <th>Location</th>\n",
       "      <th>City</th>\n",
       "      <th>Population</th>\n",
       "      <th>Avg. Income/H/hold</th>\n",
       "      <th>National Rank</th>\n",
       "    </tr>\n",
       "  </thead>\n",
       "  <tbody>\n",
       "    <tr>\n",
       "      <th>0</th>\n",
       "      <td>1</td>\n",
       "      <td>10007</td>\n",
       "      <td>40.713973, -74.008336</td>\n",
       "      <td>New York, New York</td>\n",
       "      <td>3522</td>\n",
       "      <td>112947</td>\n",
       "      <td>#132</td>\n",
       "    </tr>\n",
       "    <tr>\n",
       "      <th>1</th>\n",
       "      <td>2</td>\n",
       "      <td>10280</td>\n",
       "      <td>40.708501, -74.016828</td>\n",
       "      <td>New York, New York</td>\n",
       "      <td>6614</td>\n",
       "      <td>108536</td>\n",
       "      <td>#157</td>\n",
       "    </tr>\n",
       "    <tr>\n",
       "      <th>2</th>\n",
       "      <td>3</td>\n",
       "      <td>10162</td>\n",
       "      <td>40.769298, -73.949942</td>\n",
       "      <td>New York, New York</td>\n",
       "      <td>1726</td>\n",
       "      <td>108416</td>\n",
       "      <td>#158</td>\n",
       "    </tr>\n",
       "    <tr>\n",
       "      <th>3</th>\n",
       "      <td>4</td>\n",
       "      <td>10004</td>\n",
       "      <td>40.691870, -74.014109</td>\n",
       "      <td>New York, New York</td>\n",
       "      <td>1225</td>\n",
       "      <td>101868</td>\n",
       "      <td>#238</td>\n",
       "    </tr>\n",
       "    <tr>\n",
       "      <th>4</th>\n",
       "      <td>5</td>\n",
       "      <td>10069</td>\n",
       "      <td>40.775551, -73.989689</td>\n",
       "      <td>New York, New York</td>\n",
       "      <td>1403</td>\n",
       "      <td>88091</td>\n",
       "      <td>#507</td>\n",
       "    </tr>\n",
       "  </tbody>\n",
       "</table>\n",
       "</div>"
      ],
      "text/plain": [
       "   #  Zip Code               Location                City  Population  \\\n",
       "0  1     10007  40.713973, -74.008336  New York, New York        3522   \n",
       "1  2     10280  40.708501, -74.016828  New York, New York        6614   \n",
       "2  3     10162  40.769298, -73.949942  New York, New York        1726   \n",
       "3  4     10004  40.691870, -74.014109  New York, New York        1225   \n",
       "4  5     10069  40.775551, -73.989689  New York, New York        1403   \n",
       "\n",
       "   Avg. Income/H/hold National Rank  \n",
       "0              112947          #132  \n",
       "1              108536          #157  \n",
       "2              108416          #158  \n",
       "3              101868          #238  \n",
       "4               88091          #507  "
      ]
     },
     "execution_count": 177,
     "metadata": {},
     "output_type": "execute_result"
    }
   ],
   "source": [
    "nyc_income = pd.read_excel('../data/nycincome.xlsx')\n",
    "nyc_income.head()"
   ]
  },
  {
   "cell_type": "code",
   "execution_count": 182,
   "metadata": {
    "scrolled": true
   },
   "outputs": [
    {
     "data": {
      "text/plain": [
       "Bronx       166\n",
       "Brooklyn    112\n",
       "New York     90\n",
       "Name: Borough, dtype: int64"
      ]
     },
     "execution_count": 182,
     "metadata": {},
     "output_type": "execute_result"
    }
   ],
   "source": [
    "nyc_healthy_grocery['Borough'].value_counts()"
   ]
  },
  {
   "cell_type": "markdown",
   "metadata": {},
   "source": [
    "# FB\n",
    "\n",
    "* Good start and great that you are bringing together multiple data sources.\n",
    "\n",
    "* Don't forget to do the explore, tidy, clean and save steps so you have more usable column names, e.g. not:\n",
    "  ```\n",
    "   nyc_healthy_grocery['Zip \\nCode']\n",
    "   ```\n",
    "   \n",
    "   \n",
    "* And also practice merging data frames when you have common column(s) like zipcode.\n",
    "\n"
   ]
  },
  {
   "cell_type": "code",
   "execution_count": null,
   "metadata": {},
   "outputs": [],
   "source": []
  }
 ],
 "metadata": {
  "kernelspec": {
   "display_name": "Python 3",
   "language": "python",
   "name": "python3"
  },
  "language_info": {
   "codemirror_mode": {
    "name": "ipython",
    "version": 3
   },
   "file_extension": ".py",
   "mimetype": "text/x-python",
   "name": "python",
   "nbconvert_exporter": "python",
   "pygments_lexer": "ipython3",
   "version": "3.7.3"
  }
 },
 "nbformat": 4,
 "nbformat_minor": 2
}
