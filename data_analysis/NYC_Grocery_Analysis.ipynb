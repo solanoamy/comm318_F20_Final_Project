{
 "cells": [
  {
   "cell_type": "code",
   "execution_count": 1,
   "metadata": {},
   "outputs": [],
   "source": [
    "import pandas as pd\n",
    "import geopandas as gpd"
   ]
  },
  {
   "cell_type": "code",
   "execution_count": 2,
   "metadata": {},
   "outputs": [
    {
     "data": {
      "text/html": [
       "<div>\n",
       "<style scoped>\n",
       "    .dataframe tbody tr th:only-of-type {\n",
       "        vertical-align: middle;\n",
       "    }\n",
       "\n",
       "    .dataframe tbody tr th {\n",
       "        vertical-align: top;\n",
       "    }\n",
       "\n",
       "    .dataframe thead th {\n",
       "        text-align: right;\n",
       "    }\n",
       "</style>\n",
       "<table border=\"1\" class=\"dataframe\">\n",
       "  <thead>\n",
       "    <tr style=\"text-align: right;\">\n",
       "      <th></th>\n",
       "      <th>County</th>\n",
       "      <th>License Number</th>\n",
       "      <th>Operation Type</th>\n",
       "      <th>Establishment Type</th>\n",
       "      <th>Entity Name</th>\n",
       "      <th>DBA Name</th>\n",
       "      <th>Street Number</th>\n",
       "      <th>Street Name</th>\n",
       "      <th>Address Line 2</th>\n",
       "      <th>Address Line 3</th>\n",
       "      <th>City</th>\n",
       "      <th>State</th>\n",
       "      <th>Zip Code</th>\n",
       "      <th>Square Footage</th>\n",
       "      <th>Location</th>\n",
       "    </tr>\n",
       "  </thead>\n",
       "  <tbody>\n",
       "    <tr>\n",
       "      <th>0</th>\n",
       "      <td>Chenango</td>\n",
       "      <td>80033</td>\n",
       "      <td>Store</td>\n",
       "      <td>JAC</td>\n",
       "      <td>STEWARTS SHOPS CORP</td>\n",
       "      <td>STEWARTS SHOP 221</td>\n",
       "      <td>NaN</td>\n",
       "      <td>PO BOX 6 COR W&amp;N MAIN ST</td>\n",
       "      <td></td>\n",
       "      <td></td>\n",
       "      <td>NEW BERLIN</td>\n",
       "      <td>NY</td>\n",
       "      <td>13411</td>\n",
       "      <td>2200</td>\n",
       "      <td>NaN</td>\n",
       "    </tr>\n",
       "    <tr>\n",
       "      <th>1</th>\n",
       "      <td>Clinton</td>\n",
       "      <td>95255</td>\n",
       "      <td>Store</td>\n",
       "      <td>JAC</td>\n",
       "      <td>CHURCH OIL CO INC</td>\n",
       "      <td>CHURCH MOBIL MART</td>\n",
       "      <td>NaN</td>\n",
       "      <td>EXIT 40 SPELLMAN RD</td>\n",
       "      <td></td>\n",
       "      <td></td>\n",
       "      <td>PLATTSBURGH</td>\n",
       "      <td>NY</td>\n",
       "      <td>12901</td>\n",
       "      <td>1000</td>\n",
       "      <td>NaN</td>\n",
       "    </tr>\n",
       "    <tr>\n",
       "      <th>2</th>\n",
       "      <td>Columbia</td>\n",
       "      <td>105169</td>\n",
       "      <td>Store</td>\n",
       "      <td>JAC</td>\n",
       "      <td>CUMBERLAND FARMS INC</td>\n",
       "      <td>CUMBERLAND FARMS 1592</td>\n",
       "      <td>NaN</td>\n",
       "      <td>RT 9&amp;9J PO BOX 160</td>\n",
       "      <td></td>\n",
       "      <td></td>\n",
       "      <td>COLUMBIAVILLE</td>\n",
       "      <td>NY</td>\n",
       "      <td>12050</td>\n",
       "      <td>1700</td>\n",
       "      <td>NaN</td>\n",
       "    </tr>\n",
       "    <tr>\n",
       "      <th>3</th>\n",
       "      <td>Erie</td>\n",
       "      <td>148458</td>\n",
       "      <td>Store</td>\n",
       "      <td>JAC</td>\n",
       "      <td>DELTA SONIC CAR WASH SYSTEMS INC</td>\n",
       "      <td>KISS MART 802</td>\n",
       "      <td>NaN</td>\n",
       "      <td>RIDGE AT LANGER ST</td>\n",
       "      <td></td>\n",
       "      <td></td>\n",
       "      <td>WEST SENECA</td>\n",
       "      <td>NY</td>\n",
       "      <td>14224</td>\n",
       "      <td>2400</td>\n",
       "      <td>NaN</td>\n",
       "    </tr>\n",
       "    <tr>\n",
       "      <th>4</th>\n",
       "      <td>Greene</td>\n",
       "      <td>190145</td>\n",
       "      <td>Store</td>\n",
       "      <td>JAC</td>\n",
       "      <td>SYDJESKO LLC</td>\n",
       "      <td>MILK RUN THE</td>\n",
       "      <td>3498</td>\n",
       "      <td>RT 145</td>\n",
       "      <td></td>\n",
       "      <td></td>\n",
       "      <td>EAST DURHAM</td>\n",
       "      <td>NY</td>\n",
       "      <td>12423</td>\n",
       "      <td>2400</td>\n",
       "      <td>3498 RT\\nEAST DURHAM, NY 12423</td>\n",
       "    </tr>\n",
       "  </tbody>\n",
       "</table>\n",
       "</div>"
      ],
      "text/plain": [
       "     County  License Number Operation Type Establishment Type  \\\n",
       "0  Chenango           80033          Store             JAC      \n",
       "1   Clinton           95255          Store             JAC      \n",
       "2  Columbia          105169          Store             JAC      \n",
       "3      Erie          148458          Store             JAC      \n",
       "4    Greene          190145          Store             JAC      \n",
       "\n",
       "                         Entity Name                 DBA Name Street Number  \\\n",
       "0  STEWARTS SHOPS CORP                STEWARTS SHOP 221                 NaN   \n",
       "1  CHURCH OIL CO INC                  CHURCH MOBIL MART                 NaN   \n",
       "2  CUMBERLAND FARMS INC               CUMBERLAND FARMS 1592             NaN   \n",
       "3  DELTA SONIC CAR WASH SYSTEMS INC   KISS MART 802                     NaN   \n",
       "4  SYDJESKO LLC                       MILK RUN THE                     3498   \n",
       "\n",
       "                         Street Name Address Line 2   Address Line 3  \\\n",
       "0  PO BOX 6 COR W&N MAIN ST                                            \n",
       "1          EXIT 40 SPELLMAN RD                                         \n",
       "2          RT 9&9J PO BOX 160                                          \n",
       "3          RIDGE AT LANGER ST                                          \n",
       "4             RT 145                                                   \n",
       "\n",
       "                 City State  Zip Code  Square Footage  \\\n",
       "0  NEW BERLIN            NY     13411            2200   \n",
       "1  PLATTSBURGH           NY     12901            1000   \n",
       "2  COLUMBIAVILLE         NY     12050            1700   \n",
       "3  WEST SENECA           NY     14224            2400   \n",
       "4  EAST DURHAM           NY     12423            2400   \n",
       "\n",
       "                         Location  \n",
       "0                             NaN  \n",
       "1                             NaN  \n",
       "2                             NaN  \n",
       "3                             NaN  \n",
       "4  3498 RT\\nEAST DURHAM, NY 12423  "
      ]
     },
     "execution_count": 2,
     "metadata": {},
     "output_type": "execute_result"
    }
   ],
   "source": [
    "ny_grocery = pd.read_csv('../data/Retail_Food_Stores_NY.csv')\n",
    "ny_grocery.head()"
   ]
  },
  {
   "cell_type": "code",
   "execution_count": 3,
   "metadata": {},
   "outputs": [
    {
     "data": {
      "text/plain": [
       "(28336, 15)"
      ]
     },
     "execution_count": 3,
     "metadata": {},
     "output_type": "execute_result"
    }
   ],
   "source": [
    "ny_grocery.shape"
   ]
  },
  {
   "cell_type": "markdown",
   "metadata": {},
   "source": [
    "This dataset includes data for the entire state of New York, so I have to do some research in order to find out which rows (each row represents an individual grocery entity within the state) represent stores in New York City itself. I will probably make another subset of the data to represent the suburbs of New York, but I will also probably have to source data from New Jersey to get an accurate representation of those suburbs. I might also have to do that with Philadelphia.\n",
    "\n",
    "There are a few reference points I can use within this data to locate shops in NYC:\n",
    "* City\n",
    "* Zip Code\n",
    "* County\n",
    "\n",
    "There are 5 counties to make up the 5 boroughs in New York, so I will be cleaning the data so that only data points from those counties appear."
   ]
  },
  {
   "cell_type": "code",
   "execution_count": 4,
   "metadata": {},
   "outputs": [],
   "source": [
    "nycounties = ['Bronx','Kings','New York','Queens','Richmond']\n",
    "nyc_grocery = ny_grocery[ny_grocery['County'].isin(nycounties)]\n"
   ]
  },
  {
   "cell_type": "code",
   "execution_count": 5,
   "metadata": {
    "scrolled": true
   },
   "outputs": [
    {
     "data": {
      "text/html": [
       "<div>\n",
       "<style scoped>\n",
       "    .dataframe tbody tr th:only-of-type {\n",
       "        vertical-align: middle;\n",
       "    }\n",
       "\n",
       "    .dataframe tbody tr th {\n",
       "        vertical-align: top;\n",
       "    }\n",
       "\n",
       "    .dataframe thead th {\n",
       "        text-align: right;\n",
       "    }\n",
       "</style>\n",
       "<table border=\"1\" class=\"dataframe\">\n",
       "  <thead>\n",
       "    <tr style=\"text-align: right;\">\n",
       "      <th></th>\n",
       "      <th>County</th>\n",
       "      <th>License Number</th>\n",
       "      <th>Operation Type</th>\n",
       "      <th>Establishment Type</th>\n",
       "      <th>Entity Name</th>\n",
       "      <th>DBA Name</th>\n",
       "      <th>Street Number</th>\n",
       "      <th>Street Name</th>\n",
       "      <th>Address Line 2</th>\n",
       "      <th>Address Line 3</th>\n",
       "      <th>City</th>\n",
       "      <th>State</th>\n",
       "      <th>Zip Code</th>\n",
       "      <th>Square Footage</th>\n",
       "      <th>Location</th>\n",
       "    </tr>\n",
       "  </thead>\n",
       "  <tbody>\n",
       "    <tr>\n",
       "      <th>17</th>\n",
       "      <td>Bronx</td>\n",
       "      <td>601880</td>\n",
       "      <td>Store</td>\n",
       "      <td>JADX</td>\n",
       "      <td>ROBT T COCHRAN&amp;CO INC</td>\n",
       "      <td>ROBT T COCHRAN&amp;CO</td>\n",
       "      <td>NaN</td>\n",
       "      <td>UNT 408-412 NYC TERMINAL MKT</td>\n",
       "      <td></td>\n",
       "      <td></td>\n",
       "      <td>BRONX</td>\n",
       "      <td>NY</td>\n",
       "      <td>10474</td>\n",
       "      <td>0</td>\n",
       "      <td>NaN</td>\n",
       "    </tr>\n",
       "    <tr>\n",
       "      <th>18</th>\n",
       "      <td>Kings</td>\n",
       "      <td>610706</td>\n",
       "      <td>Store</td>\n",
       "      <td>A</td>\n",
       "      <td>WILKLOW FRED</td>\n",
       "      <td>WILKLOW ORCHARD</td>\n",
       "      <td>NaN</td>\n",
       "      <td>COURT ST BKLYN BOROUGH HALL</td>\n",
       "      <td></td>\n",
       "      <td></td>\n",
       "      <td>BROOKLYN</td>\n",
       "      <td>NY</td>\n",
       "      <td>11201</td>\n",
       "      <td>200</td>\n",
       "      <td>NaN</td>\n",
       "    </tr>\n",
       "    <tr>\n",
       "      <th>19</th>\n",
       "      <td>New York</td>\n",
       "      <td>624199</td>\n",
       "      <td>Store</td>\n",
       "      <td>A</td>\n",
       "      <td>MESSERICH ALICE H</td>\n",
       "      <td>KNOLL KREST FARM</td>\n",
       "      <td>NaN</td>\n",
       "      <td>GREEN MARKET UNION SQUARE</td>\n",
       "      <td></td>\n",
       "      <td></td>\n",
       "      <td>NEW YORK</td>\n",
       "      <td>NY</td>\n",
       "      <td>10003</td>\n",
       "      <td>50</td>\n",
       "      <td>NaN</td>\n",
       "    </tr>\n",
       "    <tr>\n",
       "      <th>20</th>\n",
       "      <td>Queens</td>\n",
       "      <td>732805</td>\n",
       "      <td>Store</td>\n",
       "      <td>JAC</td>\n",
       "      <td>MYMUN DELI AND GROCERY CORP</td>\n",
       "      <td>MYMUN DELI AND GROCERY</td>\n",
       "      <td>163-02</td>\n",
       "      <td>HILLSIDE AVE</td>\n",
       "      <td></td>\n",
       "      <td></td>\n",
       "      <td>JAMAICA</td>\n",
       "      <td>NY</td>\n",
       "      <td>11432</td>\n",
       "      <td>0</td>\n",
       "      <td>163 02 HILLSIDE AVE\\nJAMAICA, NY 11432</td>\n",
       "    </tr>\n",
       "    <tr>\n",
       "      <th>21</th>\n",
       "      <td>Queens</td>\n",
       "      <td>724999</td>\n",
       "      <td>Store</td>\n",
       "      <td>A</td>\n",
       "      <td>TMW GROUP INC</td>\n",
       "      <td>TMW GROUP</td>\n",
       "      <td>83-20</td>\n",
       "      <td>BROADWAY</td>\n",
       "      <td></td>\n",
       "      <td></td>\n",
       "      <td>ELMHURST</td>\n",
       "      <td>NY</td>\n",
       "      <td>11373</td>\n",
       "      <td>0</td>\n",
       "      <td>83 20\\nELMHURST, NY 11373</td>\n",
       "    </tr>\n",
       "  </tbody>\n",
       "</table>\n",
       "</div>"
      ],
      "text/plain": [
       "      County  License Number Operation Type Establishment Type  \\\n",
       "17     Bronx          601880          Store             JADX     \n",
       "18     Kings          610706          Store             A        \n",
       "19  New York          624199          Store             A        \n",
       "20    Queens          732805          Store             JAC      \n",
       "21    Queens          724999          Store             A        \n",
       "\n",
       "                          Entity Name                 DBA Name Street Number  \\\n",
       "17  ROBT T COCHRAN&CO INC              ROBT T COCHRAN&CO                 NaN   \n",
       "18  WILKLOW FRED                       WILKLOW ORCHARD                   NaN   \n",
       "19  MESSERICH ALICE H                  KNOLL KREST FARM                  NaN   \n",
       "20  MYMUN DELI AND GROCERY CORP        MYMUN DELI AND GROCERY         163-02   \n",
       "21  TMW GROUP INC                      TMW GROUP                       83-20   \n",
       "\n",
       "                          Street Name Address Line 2   Address Line 3  \\\n",
       "17  UNT 408-412 NYC TERMINAL MKT                                        \n",
       "18    COURT ST BKLYN BOROUGH HALL                                       \n",
       "19      GREEN MARKET UNION SQUARE                                       \n",
       "20         HILLSIDE AVE                                                 \n",
       "21        BROADWAY                                                      \n",
       "\n",
       "                  City State  Zip Code  Square Footage  \\\n",
       "17  BRONX                 NY     10474               0   \n",
       "18  BROOKLYN              NY     11201             200   \n",
       "19  NEW YORK              NY     10003              50   \n",
       "20  JAMAICA               NY     11432               0   \n",
       "21  ELMHURST              NY     11373               0   \n",
       "\n",
       "                                  Location  \n",
       "17                                     NaN  \n",
       "18                                     NaN  \n",
       "19                                     NaN  \n",
       "20  163 02 HILLSIDE AVE\\nJAMAICA, NY 11432  \n",
       "21               83 20\\nELMHURST, NY 11373  "
      ]
     },
     "execution_count": 5,
     "metadata": {},
     "output_type": "execute_result"
    }
   ],
   "source": [
    "nyc_grocery.head()"
   ]
  },
  {
   "cell_type": "code",
   "execution_count": 14,
   "metadata": {},
   "outputs": [],
   "source": [
    "nyc_grocery.to_csv(r'../data/nyc_grocery.csv')"
   ]
  },
  {
   "cell_type": "code",
   "execution_count": 6,
   "metadata": {
    "scrolled": true
   },
   "outputs": [
    {
     "data": {
      "text/plain": [
       "(13664, 15)"
      ]
     },
     "execution_count": 6,
     "metadata": {},
     "output_type": "execute_result"
    }
   ],
   "source": [
    "nyc_grocery.shape"
   ]
  },
  {
   "cell_type": "markdown",
   "metadata": {},
   "source": [
    "Now I have all the retail stores within NYC."
   ]
  },
  {
   "cell_type": "code",
   "execution_count": 7,
   "metadata": {},
   "outputs": [
    {
     "data": {
      "text/plain": [
       "Index(['County', 'License Number', 'Operation Type', 'Establishment Type',\n",
       "       'Entity Name', 'DBA Name', 'Street Number', 'Street Name',\n",
       "       'Address Line 2', 'Address Line 3', 'City', 'State', 'Zip Code',\n",
       "       'Square Footage', 'Location'],\n",
       "      dtype='object')"
      ]
     },
     "execution_count": 7,
     "metadata": {},
     "output_type": "execute_result"
    }
   ],
   "source": [
    "nyc_grocery.columns"
   ]
  },
  {
   "cell_type": "markdown",
   "metadata": {},
   "source": [
    "This dataset does not tell me much by itself, only the location of the grocery stores. So, I will need to pull up other data to find overlap between the zip codes and other factors such as vehicle access, type of grocery store, and poverty rates, as well as internet access."
   ]
  },
  {
   "cell_type": "code",
   "execution_count": 8,
   "metadata": {},
   "outputs": [
    {
     "data": {
      "text/html": [
       "<div>\n",
       "<style scoped>\n",
       "    .dataframe tbody tr th:only-of-type {\n",
       "        vertical-align: middle;\n",
       "    }\n",
       "\n",
       "    .dataframe tbody tr th {\n",
       "        vertical-align: top;\n",
       "    }\n",
       "\n",
       "    .dataframe thead th {\n",
       "        text-align: right;\n",
       "    }\n",
       "</style>\n",
       "<table border=\"1\" class=\"dataframe\">\n",
       "  <thead>\n",
       "    <tr style=\"text-align: right;\">\n",
       "      <th></th>\n",
       "      <th>Store Name</th>\n",
       "      <th>Street Address</th>\n",
       "      <th>Address</th>\n",
       "      <th>Borough</th>\n",
       "      <th>Zip \\nCode</th>\n",
       "      <th>Year Awarded</th>\n",
       "      <th>Program \\nWave</th>\n",
       "      <th>Latitude</th>\n",
       "      <th>Longitude</th>\n",
       "      <th>Community Board</th>\n",
       "      <th>Council District</th>\n",
       "      <th>Census Tract</th>\n",
       "      <th>BIN</th>\n",
       "      <th>BBL</th>\n",
       "      <th>NTA</th>\n",
       "    </tr>\n",
       "  </thead>\n",
       "  <tbody>\n",
       "    <tr>\n",
       "      <th>0</th>\n",
       "      <td>Rivas Deli Grocery</td>\n",
       "      <td>651</td>\n",
       "      <td>East 183rd Street</td>\n",
       "      <td>Bronx</td>\n",
       "      <td>10458</td>\n",
       "      <td>2013</td>\n",
       "      <td>1</td>\n",
       "      <td>40.852568</td>\n",
       "      <td>-73.887484</td>\n",
       "      <td>6.0</td>\n",
       "      <td>15.0</td>\n",
       "      <td>391.0</td>\n",
       "      <td>2012464.0</td>\n",
       "      <td>2.030870e+09</td>\n",
       "      <td>Belmont</td>\n",
       "    </tr>\n",
       "    <tr>\n",
       "      <th>1</th>\n",
       "      <td>C-Town</td>\n",
       "      <td>1761</td>\n",
       "      <td>Southern Boulevard</td>\n",
       "      <td>Bronx</td>\n",
       "      <td>10460</td>\n",
       "      <td>2013</td>\n",
       "      <td>1</td>\n",
       "      <td>40.837267</td>\n",
       "      <td>-73.888016</td>\n",
       "      <td>3.0</td>\n",
       "      <td>17.0</td>\n",
       "      <td>155.0</td>\n",
       "      <td>2009878.0</td>\n",
       "      <td>2.029400e+09</td>\n",
       "      <td>Crotona Park East</td>\n",
       "    </tr>\n",
       "    <tr>\n",
       "      <th>2</th>\n",
       "      <td>La India Mini Market</td>\n",
       "      <td>1942</td>\n",
       "      <td>Marmion Avenue</td>\n",
       "      <td>Bronx</td>\n",
       "      <td>10460</td>\n",
       "      <td>2013</td>\n",
       "      <td>1</td>\n",
       "      <td>40.842942</td>\n",
       "      <td>-73.887136</td>\n",
       "      <td>6.0</td>\n",
       "      <td>17.0</td>\n",
       "      <td>36502.0</td>\n",
       "      <td>2010156.0</td>\n",
       "      <td>2.029600e+09</td>\n",
       "      <td>East Tremont</td>\n",
       "    </tr>\n",
       "    <tr>\n",
       "      <th>3</th>\n",
       "      <td>Los Hermanos</td>\n",
       "      <td>2019</td>\n",
       "      <td>Vyse Avenue</td>\n",
       "      <td>Bronx</td>\n",
       "      <td>10460</td>\n",
       "      <td>2013</td>\n",
       "      <td>1</td>\n",
       "      <td>40.842391</td>\n",
       "      <td>-73.881835</td>\n",
       "      <td>6.0</td>\n",
       "      <td>17.0</td>\n",
       "      <td>363.0</td>\n",
       "      <td>2013203.0</td>\n",
       "      <td>2.031270e+09</td>\n",
       "      <td>East Tremont</td>\n",
       "    </tr>\n",
       "    <tr>\n",
       "      <th>4</th>\n",
       "      <td>Price Choice Food Market</td>\n",
       "      <td>820</td>\n",
       "      <td>East 180th Street</td>\n",
       "      <td>Bronx</td>\n",
       "      <td>10460</td>\n",
       "      <td>2013</td>\n",
       "      <td>1</td>\n",
       "      <td>40.846173</td>\n",
       "      <td>-73.884871</td>\n",
       "      <td>6.0</td>\n",
       "      <td>15.0</td>\n",
       "      <td>36501.0</td>\n",
       "      <td>2012955.0</td>\n",
       "      <td>2.031080e+09</td>\n",
       "      <td>East Tremont</td>\n",
       "    </tr>\n",
       "  </tbody>\n",
       "</table>\n",
       "</div>"
      ],
      "text/plain": [
       "                 Store Name Street Address             Address Borough  \\\n",
       "0        Rivas Deli Grocery            651   East 183rd Street   Bronx   \n",
       "1                    C-Town           1761  Southern Boulevard   Bronx   \n",
       "2      La India Mini Market           1942      Marmion Avenue   Bronx   \n",
       "3              Los Hermanos           2019         Vyse Avenue   Bronx   \n",
       "4  Price Choice Food Market            820   East 180th Street   Bronx   \n",
       "\n",
       "   Zip \\nCode  Year Awarded  Program \\nWave   Latitude  Longitude  \\\n",
       "0       10458          2013               1  40.852568 -73.887484   \n",
       "1       10460          2013               1  40.837267 -73.888016   \n",
       "2       10460          2013               1  40.842942 -73.887136   \n",
       "3       10460          2013               1  40.842391 -73.881835   \n",
       "4       10460          2013               1  40.846173 -73.884871   \n",
       "\n",
       "   Community Board  Council District  Census Tract        BIN           BBL  \\\n",
       "0              6.0              15.0         391.0  2012464.0  2.030870e+09   \n",
       "1              3.0              17.0         155.0  2009878.0  2.029400e+09   \n",
       "2              6.0              17.0       36502.0  2010156.0  2.029600e+09   \n",
       "3              6.0              17.0         363.0  2013203.0  2.031270e+09   \n",
       "4              6.0              15.0       36501.0  2012955.0  2.031080e+09   \n",
       "\n",
       "                 NTA  \n",
       "0            Belmont  \n",
       "1  Crotona Park East  \n",
       "2       East Tremont  \n",
       "3       East Tremont  \n",
       "4       East Tremont  "
      ]
     },
     "execution_count": 8,
     "metadata": {},
     "output_type": "execute_result"
    }
   ],
   "source": [
    "nyc_healthy_grocery = pd.read_csv('../data/Recognized_Shop_Healthy_Stores_NYC.csv')\n",
    "nyc_healthy_grocery.head()"
   ]
  },
  {
   "cell_type": "markdown",
   "metadata": {},
   "source": [
    "This is a list of healthy grocery stores that are in New York City. I can see if there's overlap by region now!\n",
    "* I can't do this until I learn mapping in Python LMFAOOOO"
   ]
  },
  {
   "cell_type": "markdown",
   "metadata": {},
   "source": [
    "# FB\n",
    "\n",
    "* We will start to cover using GeoPandas and doing some geolocated analysis soon.\n",
    "\n",
    "* But here are a few steps to go from the Longitude and Latitude columns in your data sheet to a `GeoDataFrame` that can be plotted."
   ]
  },
  {
   "cell_type": "code",
   "execution_count": 9,
   "metadata": {},
   "outputs": [],
   "source": [
    "lon = nyc_healthy_grocery['Longitude']\n",
    "lat = nyc_healthy_grocery['Latitude']\n",
    "\n",
    "geom=gpd.points_from_xy(lon,lat)\n",
    "\n",
    "nyc_healthy_grocery_gdf = gpd.GeoDataFrame(nyc_healthy_grocery, geometry=geom)"
   ]
  },
  {
   "cell_type": "code",
   "execution_count": 10,
   "metadata": {},
   "outputs": [
    {
     "data": {
      "text/plain": [
       "<AxesSubplot:>"
      ]
     },
     "execution_count": 10,
     "metadata": {},
     "output_type": "execute_result"
    }
   ],
   "source": [
    "nyc_healthy_grocery_gdf.plot(figsize=(10,10))"
   ]
  },
  {
   "cell_type": "code",
   "execution_count": 11,
   "metadata": {},
   "outputs": [],
   "source": [
    "boroughs_url = 'https://raw.githubusercontent.com/dwillis/nyc-maps/master/boroughs.geojson'\n",
    "boroughs_gdf = gpd.read_file(boroughs_url)"
   ]
  },
  {
   "cell_type": "code",
   "execution_count": 12,
   "metadata": {},
   "outputs": [
    {
     "data": {
      "text/plain": [
       "<AxesSubplot:>"
      ]
     },
     "execution_count": 12,
     "metadata": {},
     "output_type": "execute_result"
    },
    {
     "data": {
      "image/png": "[encoded data removed]",
      "text/plain": [
       "<Figure size 432x288 with 1 Axes>"
      ]
     },
     "metadata": {
      "needs_background": "light"
     },
     "output_type": "display_data"
    }
   ],
   "source": [
    "boroughs_gdf.plot(color='white', edgecolor='gray')"
   ]
  },
  {
   "cell_type": "code",
   "execution_count": 13,
   "metadata": {},
   "outputs": [
    {
     "data": {
      "text/plain": [
       "<AxesSubplot:>"
      ]
     },
     "execution_count": 13,
     "metadata": {},
     "output_type": "execute_result"
    },
    {
     "data": {
      "image/png": "[encoded data removed]",
      "text/plain": [
       "<Figure size 720x720 with 1 Axes>"
      ]
     },
     "metadata": {
      "needs_background": "light"
     },
     "output_type": "display_data"
    }
   ],
   "source": [
    "base=boroughs_gdf.plot(color='white', edgecolor='gray', figsize=(10,10))\n",
    "nyc_healthy_grocery_gdf.plot(ax=base, markersize=10)"
   ]
  },
  {
   "cell_type": "code",
   "execution_count": null,
   "metadata": {},
   "outputs": [],
   "source": []
  },
  {
   "cell_type": "code",
   "execution_count": null,
   "metadata": {},
   "outputs": [],
   "source": []
  }
 ],
 "metadata": {
  "kernelspec": {
   "display_name": "Python 3",
   "language": "python",
   "name": "python3"
  },
  "language_info": {
   "codemirror_mode": {
    "name": "ipython",
    "version": 3
   },
   "file_extension": ".py",
   "mimetype": "text/x-python",
   "name": "python",
   "nbconvert_exporter": "python",
   "pygments_lexer": "ipython3",
   "version": "3.7.3"
  }
 },
 "nbformat": 4,
 "nbformat_minor": 2
}
