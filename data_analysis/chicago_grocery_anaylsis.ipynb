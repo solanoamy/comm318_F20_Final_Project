{
 "cells": [
  {
   "cell_type": "code",
   "execution_count": 1,
   "metadata": {},
   "outputs": [],
   "source": [
    "import pandas as pd"
   ]
  },
  {
   "cell_type": "code",
   "execution_count": 2,
   "metadata": {},
   "outputs": [
    {
     "data": {
      "text/html": [
       "<div>\n",
       "<style scoped>\n",
       "    .dataframe tbody tr th:only-of-type {\n",
       "        vertical-align: middle;\n",
       "    }\n",
       "\n",
       "    .dataframe tbody tr th {\n",
       "        vertical-align: top;\n",
       "    }\n",
       "\n",
       "    .dataframe thead th {\n",
       "        text-align: right;\n",
       "    }\n",
       "</style>\n",
       "<table border=\"1\" class=\"dataframe\">\n",
       "  <thead>\n",
       "    <tr style=\"text-align: right;\">\n",
       "      <th></th>\n",
       "      <th>STORE NAME</th>\n",
       "      <th>LICENSE ID</th>\n",
       "      <th>ACCOUNT NUMBER</th>\n",
       "      <th>SQUARE FEET</th>\n",
       "      <th>BUFFER SIZE</th>\n",
       "      <th>ADDRESS</th>\n",
       "      <th>ZIP CODE</th>\n",
       "      <th>COMMUNITY AREA NAME</th>\n",
       "      <th>COMMUNITY AREA</th>\n",
       "      <th>WARD</th>\n",
       "      <th>CENSUS TRACT</th>\n",
       "      <th>CENSUS BLOCK</th>\n",
       "      <th>X COORDINATE</th>\n",
       "      <th>Y COORDINATE</th>\n",
       "      <th>LATITUDE</th>\n",
       "      <th>LONGITUDE</th>\n",
       "      <th>LOCATION</th>\n",
       "    </tr>\n",
       "  </thead>\n",
       "  <tbody>\n",
       "    <tr>\n",
       "      <th>0</th>\n",
       "      <td>BOB'S LIQUORS &amp; GROCERIES</td>\n",
       "      <td>957.0</td>\n",
       "      <td>86492.0</td>\n",
       "      <td>10001.0</td>\n",
       "      <td>A</td>\n",
       "      <td>5069 W MADISON ST</td>\n",
       "      <td>60644</td>\n",
       "      <td>AUSTIN</td>\n",
       "      <td>25</td>\n",
       "      <td>28</td>\n",
       "      <td>17031252201</td>\n",
       "      <td>1.703125e+14</td>\n",
       "      <td>1.142425e+06</td>\n",
       "      <td>1.899505e+06</td>\n",
       "      <td>41.880296</td>\n",
       "      <td>-87.752494</td>\n",
       "      <td>(41.8802960895, -87.7524941982)</td>\n",
       "    </tr>\n",
       "    <tr>\n",
       "      <th>1</th>\n",
       "      <td>QUICK STOP FOOD MART</td>\n",
       "      <td>39791.0</td>\n",
       "      <td>3604.0</td>\n",
       "      <td>3000.0</td>\n",
       "      <td>B</td>\n",
       "      <td>2751 W PRATT BLVD</td>\n",
       "      <td>60645</td>\n",
       "      <td>WEST RIDGE</td>\n",
       "      <td>2</td>\n",
       "      <td>50</td>\n",
       "      <td>17031020601</td>\n",
       "      <td>1.703102e+14</td>\n",
       "      <td>1.156543e+06</td>\n",
       "      <td>1.944959e+06</td>\n",
       "      <td>42.004750</td>\n",
       "      <td>-87.699423</td>\n",
       "      <td>(42.0047500731, -87.6994227766)</td>\n",
       "    </tr>\n",
       "    <tr>\n",
       "      <th>2</th>\n",
       "      <td>DOMINICK'S #147/1147</td>\n",
       "      <td>41674.0</td>\n",
       "      <td>5033.0</td>\n",
       "      <td>68000.0</td>\n",
       "      <td>A</td>\n",
       "      <td>1340 S CANAL ST</td>\n",
       "      <td>60607</td>\n",
       "      <td>NEAR WEST SIDE</td>\n",
       "      <td>28</td>\n",
       "      <td>2</td>\n",
       "      <td>17031841900</td>\n",
       "      <td>1.703184e+14</td>\n",
       "      <td>1.173296e+06</td>\n",
       "      <td>1.893986e+06</td>\n",
       "      <td>41.864521</td>\n",
       "      <td>-87.639304</td>\n",
       "      <td>(41.8645211937, -87.6393040996)</td>\n",
       "    </tr>\n",
       "    <tr>\n",
       "      <th>3</th>\n",
       "      <td>CERMAK PRODUCE</td>\n",
       "      <td>1515206.0</td>\n",
       "      <td>279468.0</td>\n",
       "      <td>25000.0</td>\n",
       "      <td>A</td>\n",
       "      <td>5220 S PULASKI RD</td>\n",
       "      <td>60632</td>\n",
       "      <td>WEST ELSDON</td>\n",
       "      <td>62</td>\n",
       "      <td>23</td>\n",
       "      <td>17031620200</td>\n",
       "      <td>1.703162e+14</td>\n",
       "      <td>1.150549e+06</td>\n",
       "      <td>1.869569e+06</td>\n",
       "      <td>41.797992</td>\n",
       "      <td>-87.723444</td>\n",
       "      <td>(41.79799187, -87.7234437408)</td>\n",
       "    </tr>\n",
       "    <tr>\n",
       "      <th>4</th>\n",
       "      <td>WHOLE FOODS MARKET</td>\n",
       "      <td>54059.0</td>\n",
       "      <td>86298.0</td>\n",
       "      <td>4501.0</td>\n",
       "      <td>B</td>\n",
       "      <td>3300 N ASHLAND AVE</td>\n",
       "      <td>60657</td>\n",
       "      <td>LAKE VIEW</td>\n",
       "      <td>6</td>\n",
       "      <td>44</td>\n",
       "      <td>17031062500</td>\n",
       "      <td>1.703106e+14</td>\n",
       "      <td>1.165028e+06</td>\n",
       "      <td>1.921997e+06</td>\n",
       "      <td>41.941566</td>\n",
       "      <td>-87.668860</td>\n",
       "      <td>(41.9415658578, -87.6688604029)</td>\n",
       "    </tr>\n",
       "  </tbody>\n",
       "</table>\n",
       "</div>"
      ],
      "text/plain": [
       "                  STORE NAME  LICENSE ID  ACCOUNT NUMBER  SQUARE FEET  \\\n",
       "0  BOB'S LIQUORS & GROCERIES       957.0         86492.0      10001.0   \n",
       "1       QUICK STOP FOOD MART     39791.0          3604.0       3000.0   \n",
       "2       DOMINICK'S #147/1147     41674.0          5033.0      68000.0   \n",
       "3             CERMAK PRODUCE   1515206.0        279468.0      25000.0   \n",
       "4         WHOLE FOODS MARKET     54059.0         86298.0       4501.0   \n",
       "\n",
       "  BUFFER SIZE             ADDRESS  ZIP CODE COMMUNITY AREA NAME  \\\n",
       "0           A   5069 W MADISON ST     60644              AUSTIN   \n",
       "1           B   2751 W PRATT BLVD     60645          WEST RIDGE   \n",
       "2           A     1340 S CANAL ST     60607      NEAR WEST SIDE   \n",
       "3           A   5220 S PULASKI RD     60632         WEST ELSDON   \n",
       "4           B  3300 N ASHLAND AVE     60657           LAKE VIEW   \n",
       "\n",
       "   COMMUNITY AREA  WARD  CENSUS TRACT  CENSUS BLOCK  X COORDINATE  \\\n",
       "0              25    28   17031252201  1.703125e+14  1.142425e+06   \n",
       "1               2    50   17031020601  1.703102e+14  1.156543e+06   \n",
       "2              28     2   17031841900  1.703184e+14  1.173296e+06   \n",
       "3              62    23   17031620200  1.703162e+14  1.150549e+06   \n",
       "4               6    44   17031062500  1.703106e+14  1.165028e+06   \n",
       "\n",
       "   Y COORDINATE   LATITUDE  LONGITUDE                         LOCATION  \n",
       "0  1.899505e+06  41.880296 -87.752494  (41.8802960895, -87.7524941982)  \n",
       "1  1.944959e+06  42.004750 -87.699423  (42.0047500731, -87.6994227766)  \n",
       "2  1.893986e+06  41.864521 -87.639304  (41.8645211937, -87.6393040996)  \n",
       "3  1.869569e+06  41.797992 -87.723444    (41.79799187, -87.7234437408)  \n",
       "4  1.921997e+06  41.941566 -87.668860  (41.9415658578, -87.6688604029)  "
      ]
     },
     "execution_count": 2,
     "metadata": {},
     "output_type": "execute_result"
    }
   ],
   "source": []
  },
  {
   "cell_type": "code",
   "execution_count": 4,
   "metadata": {},
   "outputs": [
    {
     "data": {
      "text/plain": [
       "(506, 17)"
      ]
     },
     "execution_count": 4,
     "metadata": {},
     "output_type": "execute_result"
    }
   ],
   "source": [
    "chi_grocery.shape"
   ]
  },
  {
   "cell_type": "code",
   "execution_count": 5,
   "metadata": {},
   "outputs": [
    {
     "data": {
      "text/plain": [
       "Index(['STORE NAME', 'LICENSE ID', 'ACCOUNT NUMBER', 'SQUARE FEET',\n",
       "       'BUFFER SIZE', 'ADDRESS', 'ZIP CODE', 'COMMUNITY AREA NAME',\n",
       "       'COMMUNITY AREA', 'WARD', 'CENSUS TRACT', 'CENSUS BLOCK',\n",
       "       'X COORDINATE', 'Y COORDINATE', 'LATITUDE', 'LONGITUDE', 'LOCATION'],\n",
       "      dtype='object')"
      ]
     },
     "execution_count": 5,
     "metadata": {},
     "output_type": "execute_result"
    }
   ],
   "source": [
    "chi_grocery.columns"
   ]
  },
  {
   "cell_type": "markdown",
   "metadata": {},
   "source": [
    "## Some observations\n",
    "* Each row represents a store\n",
    "* Store name is useful for classification but there is no column that breaks down stores by type. This would seem to be something you'd need for your analyses.\n",
    "* Multiple ways of locating and grouping position of store:\n",
    " * street address\n",
    " * zip code\n",
    " * community area\n",
    " * ward (voting?)\n",
    " * census tract (particularly useful for merging in demographic and income etc data)\n",
    "\n",
    "What is {BUFFER SIZE}?"
   ]
  },
  {
   "cell_type": "code",
   "execution_count": 7,
   "metadata": {},
   "outputs": [
    {
     "data": {
      "text/plain": [
       "75"
      ]
     },
     "execution_count": 7,
     "metadata": {},
     "output_type": "execute_result"
    }
   ],
   "source": [
    "community_dist=chi_grocery['COMMUNITY AREA NAME'].value_counts()\n",
    "len(community_dist)"
   ]
  },
  {
   "cell_type": "code",
   "execution_count": 9,
   "metadata": {},
   "outputs": [
    {
     "data": {
      "text/plain": [
       "BELMONT CRAGIN     22\n",
       "SOUTH LAWNDALE     22\n",
       "WEST RIDGE         18\n",
       "NEW CITY           17\n",
       "NEAR NORTH SIDE    17\n",
       "HUMBOLDT PARK      16\n",
       "UPTOWN             15\n",
       "LOGAN SQUARE       15\n",
       "AUSTIN             14\n",
       "WEST TOWN          14\n",
       "ROGERS PARK        13\n",
       "ALBANY PARK        12\n",
       "CHICAGO LAWN       12\n",
       "EDGEWATER          11\n",
       "AUBURN GRESHAM     11\n",
       "LINCOLN PARK       11\n",
       "LOWER WEST SIDE    11\n",
       "WEST ENGLEWOOD     11\n",
       "PORTAGE PARK       10\n",
       "BRIGHTON PARK      10\n",
       "Name: COMMUNITY AREA NAME, dtype: int64"
      ]
     },
     "execution_count": 9,
     "metadata": {},
     "output_type": "execute_result"
    }
   ],
   "source": [
    "community_dist.head(20)"
   ]
  },
  {
   "cell_type": "code",
   "execution_count": 10,
   "metadata": {},
   "outputs": [],
   "source": [
    "zip_dist = chi_grocery['ZIP CODE'].value_counts()"
   ]
  },
  {
   "cell_type": "code",
   "execution_count": 11,
   "metadata": {
    "scrolled": true
   },
   "outputs": [
    {
     "data": {
      "text/plain": [
       "60639    32\n",
       "60623    22\n",
       "60609    20\n",
       "60632    20\n",
       "60608    18\n",
       "60647    18\n",
       "60620    17\n",
       "60618    17\n",
       "60640    16\n",
       "60636    15\n",
       "60629    15\n",
       "60659    14\n",
       "60628    14\n",
       "60622    14\n",
       "60617    14\n",
       "60634    13\n",
       "60625    12\n",
       "60637    11\n",
       "60626    11\n",
       "60614    11\n",
       "60651    11\n",
       "60610    11\n",
       "60641    10\n",
       "60619    10\n",
       "60660     9\n",
       "60613     9\n",
       "60643     9\n",
       "60624     8\n",
       "60616     8\n",
       "60630     8\n",
       "60649     8\n",
       "60644     7\n",
       "60621     7\n",
       "60653     6\n",
       "60611     5\n",
       "60646     5\n",
       "60657     5\n",
       "60638     5\n",
       "60612     4\n",
       "60615     4\n",
       "60645     4\n",
       "60607     4\n",
       "60601     3\n",
       "60707     3\n",
       "60655     3\n",
       "60661     3\n",
       "60631     2\n",
       "60633     2\n",
       "60652     2\n",
       "60656     2\n",
       "60605     2\n",
       "60827     2\n",
       "60642     1\n",
       "Name: ZIP CODE, dtype: int64"
      ]
     },
     "execution_count": 11,
     "metadata": {},
     "output_type": "execute_result"
    }
   ],
   "source": [
    "zip_dist"
   ]
  },
  {
   "cell_type": "markdown",
   "metadata": {},
   "source": [
    "## *These distributions could be used for exploratory data plots, e.g. number of stores by zip code*"
   ]
  },
  {
   "cell_type": "code",
   "execution_count": 13,
   "metadata": {},
   "outputs": [
    {
     "data": {
      "text/plain": [
       "<matplotlib.axes._subplots.AxesSubplot at 0x7eff97aba7f0>"
      ]
     },
     "execution_count": 13,
     "metadata": {},
     "output_type": "execute_result"
    },
    {
     "data": {
      "image/png": "[encoded data removed]",
      "text/plain": [
       "<Figure size 864x288 with 1 Axes>"
      ]
     },
     "metadata": {
      "needs_background": "light"
     },
     "output_type": "display_data"
    }
   ],
   "source": [
    "zip_dist.plot(kind='bar', \n",
    "              color='#c0c0c0', \n",
    "              figsize=(12,4),\n",
    "              ylabel='Number of stores'\n",
    "             )"
   ]
  },
  {
   "cell_type": "code",
   "execution_count": null,
   "metadata": {},
   "outputs": [],
   "source": []
  }
 ],
 "metadata": {
  "kernelspec": {
   "display_name": "Python 3",
   "language": "python",
   "name": "python3"
  },
  "language_info": {
   "codemirror_mode": {
    "name": "ipython",
    "version": 3
   },
   "file_extension": ".py",
   "mimetype": "text/x-python",
   "name": "python",
   "nbconvert_exporter": "python",
   "pygments_lexer": "ipython3",
   "version": "3.7.3"
  }
 },
 "nbformat": 4,
 "nbformat_minor": 2
}
